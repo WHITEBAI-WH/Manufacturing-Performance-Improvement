{
 "cells": [
  {
   "cell_type": "markdown",
   "metadata": {},
   "source": [
    "## Manufacturing Performance Improvement"
   ]
  },
  {
   "cell_type": "markdown",
   "metadata": {},
   "source": [
    "### Objective: Prediction of manufacturing Failure to improve production performance"
   ]
  },
  {
   "cell_type": "markdown",
   "metadata": {},
   "source": [
    "### Dataset Introduction"
   ]
  },
  {
   "cell_type": "markdown",
   "metadata": {},
   "source": [
    "The data for this competition represents measurements of parts as they move through Bosch's production lines. Each part has a unique Id. The goal is to predict which parts will fail quality control (represented by a 'Response' = 1).\n",
    "\n",
    "The dataset contains an extremely large number of anonymized features. Features are named according to a convention that tells you the production line, the station on the line, and a feature number. E.g. L3_S36_F3939 is a feature measured on line 3, station 36, and is feature number 3939.\n",
    "\n",
    "On account of the large size of the dataset, we have separated the files by the type of feature they contain: numerical, categorical, and finally, a file with date features. The date features provide a timestamp for when each measurement was taken. Each date column ends in a number that corresponds to the previous feature number. E.g. the value of L0_S0_D1 is the time at which L0_S0_F0 was taken."
   ]
  },
  {
   "cell_type": "code",
   "execution_count": 1,
   "metadata": {},
   "outputs": [],
   "source": [
    "import pandas as pd\n",
    "import numpy as np \n",
    "from sklearn.model_selection import cross_validate\n",
    "from sklearn.tree import DecisionTreeClassifier\n",
    "from sklearn.tree import *\n",
    "from sklearn.ensemble import *\n",
    "from sklearn.metrics import accuracy_score\n",
    "from sklearn import preprocessing\n",
    "from sklearn.model_selection import train_test_split"
   ]
  },
  {
   "cell_type": "code",
   "execution_count": 2,
   "metadata": {},
   "outputs": [],
   "source": [
    "train_numeric = pd.read_csv('train_numeric.csv',nrows=10000)\n",
    "\n",
    "#train_cate = pd.read_csv(DataPath+'train_categorical.csv',nrows=10000)"
   ]
  },
  {
   "cell_type": "code",
   "execution_count": 10,
   "metadata": {
    "scrolled": true
   },
   "outputs": [
    {
     "data": {
      "text/html": [
       "<div>\n",
       "<style scoped>\n",
       "    .dataframe tbody tr th:only-of-type {\n",
       "        vertical-align: middle;\n",
       "    }\n",
       "\n",
       "    .dataframe tbody tr th {\n",
       "        vertical-align: top;\n",
       "    }\n",
       "\n",
       "    .dataframe thead th {\n",
       "        text-align: right;\n",
       "    }\n",
       "</style>\n",
       "<table border=\"1\" class=\"dataframe\">\n",
       "  <thead>\n",
       "    <tr style=\"text-align: right;\">\n",
       "      <th></th>\n",
       "      <th>Id</th>\n",
       "      <th>L0_S0_F0</th>\n",
       "      <th>L0_S0_F2</th>\n",
       "      <th>L0_S0_F4</th>\n",
       "      <th>L0_S0_F6</th>\n",
       "      <th>L0_S0_F8</th>\n",
       "      <th>L0_S0_F10</th>\n",
       "      <th>L0_S0_F12</th>\n",
       "      <th>L0_S0_F14</th>\n",
       "      <th>L0_S0_F16</th>\n",
       "      <th>...</th>\n",
       "      <th>L3_S50_F4245</th>\n",
       "      <th>L3_S50_F4247</th>\n",
       "      <th>L3_S50_F4249</th>\n",
       "      <th>L3_S50_F4251</th>\n",
       "      <th>L3_S50_F4253</th>\n",
       "      <th>L3_S51_F4256</th>\n",
       "      <th>L3_S51_F4258</th>\n",
       "      <th>L3_S51_F4260</th>\n",
       "      <th>L3_S51_F4262</th>\n",
       "      <th>Response</th>\n",
       "    </tr>\n",
       "  </thead>\n",
       "  <tbody>\n",
       "    <tr>\n",
       "      <th>0</th>\n",
       "      <td>4</td>\n",
       "      <td>0.030</td>\n",
       "      <td>-0.034</td>\n",
       "      <td>-0.197</td>\n",
       "      <td>-0.179</td>\n",
       "      <td>0.118</td>\n",
       "      <td>0.116</td>\n",
       "      <td>-0.015</td>\n",
       "      <td>-0.032</td>\n",
       "      <td>0.020</td>\n",
       "      <td>...</td>\n",
       "      <td>NaN</td>\n",
       "      <td>NaN</td>\n",
       "      <td>NaN</td>\n",
       "      <td>NaN</td>\n",
       "      <td>NaN</td>\n",
       "      <td>NaN</td>\n",
       "      <td>NaN</td>\n",
       "      <td>NaN</td>\n",
       "      <td>NaN</td>\n",
       "      <td>0</td>\n",
       "    </tr>\n",
       "    <tr>\n",
       "      <th>1</th>\n",
       "      <td>6</td>\n",
       "      <td>NaN</td>\n",
       "      <td>NaN</td>\n",
       "      <td>NaN</td>\n",
       "      <td>NaN</td>\n",
       "      <td>NaN</td>\n",
       "      <td>NaN</td>\n",
       "      <td>NaN</td>\n",
       "      <td>NaN</td>\n",
       "      <td>NaN</td>\n",
       "      <td>...</td>\n",
       "      <td>NaN</td>\n",
       "      <td>NaN</td>\n",
       "      <td>NaN</td>\n",
       "      <td>NaN</td>\n",
       "      <td>NaN</td>\n",
       "      <td>NaN</td>\n",
       "      <td>NaN</td>\n",
       "      <td>NaN</td>\n",
       "      <td>NaN</td>\n",
       "      <td>0</td>\n",
       "    </tr>\n",
       "    <tr>\n",
       "      <th>2</th>\n",
       "      <td>7</td>\n",
       "      <td>0.088</td>\n",
       "      <td>0.086</td>\n",
       "      <td>0.003</td>\n",
       "      <td>-0.052</td>\n",
       "      <td>0.161</td>\n",
       "      <td>0.025</td>\n",
       "      <td>-0.015</td>\n",
       "      <td>-0.072</td>\n",
       "      <td>-0.225</td>\n",
       "      <td>...</td>\n",
       "      <td>NaN</td>\n",
       "      <td>NaN</td>\n",
       "      <td>NaN</td>\n",
       "      <td>NaN</td>\n",
       "      <td>NaN</td>\n",
       "      <td>NaN</td>\n",
       "      <td>NaN</td>\n",
       "      <td>NaN</td>\n",
       "      <td>NaN</td>\n",
       "      <td>0</td>\n",
       "    </tr>\n",
       "    <tr>\n",
       "      <th>3</th>\n",
       "      <td>9</td>\n",
       "      <td>-0.036</td>\n",
       "      <td>-0.064</td>\n",
       "      <td>0.294</td>\n",
       "      <td>0.330</td>\n",
       "      <td>0.074</td>\n",
       "      <td>0.161</td>\n",
       "      <td>0.022</td>\n",
       "      <td>0.128</td>\n",
       "      <td>-0.026</td>\n",
       "      <td>...</td>\n",
       "      <td>NaN</td>\n",
       "      <td>NaN</td>\n",
       "      <td>NaN</td>\n",
       "      <td>NaN</td>\n",
       "      <td>NaN</td>\n",
       "      <td>NaN</td>\n",
       "      <td>NaN</td>\n",
       "      <td>NaN</td>\n",
       "      <td>NaN</td>\n",
       "      <td>0</td>\n",
       "    </tr>\n",
       "    <tr>\n",
       "      <th>4</th>\n",
       "      <td>11</td>\n",
       "      <td>-0.055</td>\n",
       "      <td>-0.086</td>\n",
       "      <td>0.294</td>\n",
       "      <td>0.330</td>\n",
       "      <td>0.118</td>\n",
       "      <td>0.025</td>\n",
       "      <td>0.030</td>\n",
       "      <td>0.168</td>\n",
       "      <td>-0.169</td>\n",
       "      <td>...</td>\n",
       "      <td>NaN</td>\n",
       "      <td>NaN</td>\n",
       "      <td>NaN</td>\n",
       "      <td>NaN</td>\n",
       "      <td>NaN</td>\n",
       "      <td>NaN</td>\n",
       "      <td>NaN</td>\n",
       "      <td>NaN</td>\n",
       "      <td>NaN</td>\n",
       "      <td>0</td>\n",
       "    </tr>\n",
       "  </tbody>\n",
       "</table>\n",
       "<p>5 rows × 970 columns</p>\n",
       "</div>"
      ],
      "text/plain": [
       "   Id  L0_S0_F0  L0_S0_F2  L0_S0_F4  L0_S0_F6  L0_S0_F8  L0_S0_F10  L0_S0_F12  \\\n",
       "0   4     0.030    -0.034    -0.197    -0.179     0.118      0.116     -0.015   \n",
       "1   6       NaN       NaN       NaN       NaN       NaN        NaN        NaN   \n",
       "2   7     0.088     0.086     0.003    -0.052     0.161      0.025     -0.015   \n",
       "3   9    -0.036    -0.064     0.294     0.330     0.074      0.161      0.022   \n",
       "4  11    -0.055    -0.086     0.294     0.330     0.118      0.025      0.030   \n",
       "\n",
       "   L0_S0_F14  L0_S0_F16    ...     L3_S50_F4245  L3_S50_F4247  L3_S50_F4249  \\\n",
       "0     -0.032      0.020    ...              NaN           NaN           NaN   \n",
       "1        NaN        NaN    ...              NaN           NaN           NaN   \n",
       "2     -0.072     -0.225    ...              NaN           NaN           NaN   \n",
       "3      0.128     -0.026    ...              NaN           NaN           NaN   \n",
       "4      0.168     -0.169    ...              NaN           NaN           NaN   \n",
       "\n",
       "   L3_S50_F4251  L3_S50_F4253  L3_S51_F4256  L3_S51_F4258  L3_S51_F4260  \\\n",
       "0           NaN           NaN           NaN           NaN           NaN   \n",
       "1           NaN           NaN           NaN           NaN           NaN   \n",
       "2           NaN           NaN           NaN           NaN           NaN   \n",
       "3           NaN           NaN           NaN           NaN           NaN   \n",
       "4           NaN           NaN           NaN           NaN           NaN   \n",
       "\n",
       "   L3_S51_F4262  Response  \n",
       "0           NaN         0  \n",
       "1           NaN         0  \n",
       "2           NaN         0  \n",
       "3           NaN         0  \n",
       "4           NaN         0  \n",
       "\n",
       "[5 rows x 970 columns]"
      ]
     },
     "execution_count": 10,
     "metadata": {},
     "output_type": "execute_result"
    }
   ],
   "source": [
    "train_numeric.head()"
   ]
  },
  {
   "cell_type": "code",
   "execution_count": 11,
   "metadata": {},
   "outputs": [
    {
     "data": {
      "text/html": [
       "<div>\n",
       "<style scoped>\n",
       "    .dataframe tbody tr th:only-of-type {\n",
       "        vertical-align: middle;\n",
       "    }\n",
       "\n",
       "    .dataframe tbody tr th {\n",
       "        vertical-align: top;\n",
       "    }\n",
       "\n",
       "    .dataframe thead th {\n",
       "        text-align: right;\n",
       "    }\n",
       "</style>\n",
       "<table border=\"1\" class=\"dataframe\">\n",
       "  <thead>\n",
       "    <tr style=\"text-align: right;\">\n",
       "      <th></th>\n",
       "      <th>Id</th>\n",
       "      <th>L0_S0_F0</th>\n",
       "      <th>L0_S0_F2</th>\n",
       "      <th>L0_S0_F4</th>\n",
       "      <th>L0_S0_F6</th>\n",
       "      <th>L0_S0_F8</th>\n",
       "      <th>L0_S0_F10</th>\n",
       "      <th>L0_S0_F12</th>\n",
       "      <th>L0_S0_F14</th>\n",
       "      <th>L0_S0_F16</th>\n",
       "      <th>...</th>\n",
       "      <th>L3_S50_F4245</th>\n",
       "      <th>L3_S50_F4247</th>\n",
       "      <th>L3_S50_F4249</th>\n",
       "      <th>L3_S50_F4251</th>\n",
       "      <th>L3_S50_F4253</th>\n",
       "      <th>L3_S51_F4256</th>\n",
       "      <th>L3_S51_F4258</th>\n",
       "      <th>L3_S51_F4260</th>\n",
       "      <th>L3_S51_F4262</th>\n",
       "      <th>Response</th>\n",
       "    </tr>\n",
       "  </thead>\n",
       "  <tbody>\n",
       "    <tr>\n",
       "      <th>count</th>\n",
       "      <td>10000.000000</td>\n",
       "      <td>5733.000000</td>\n",
       "      <td>5733.000000</td>\n",
       "      <td>5733.000000</td>\n",
       "      <td>5733.000000</td>\n",
       "      <td>5733.000000</td>\n",
       "      <td>5733.000000</td>\n",
       "      <td>5733.000000</td>\n",
       "      <td>5733.000000</td>\n",
       "      <td>5733.000000</td>\n",
       "      <td>...</td>\n",
       "      <td>249.000000</td>\n",
       "      <td>249.000000</td>\n",
       "      <td>249.000000</td>\n",
       "      <td>249.000000</td>\n",
       "      <td>249.000000</td>\n",
       "      <td>501.000000</td>\n",
       "      <td>501.000000</td>\n",
       "      <td>501.000000</td>\n",
       "      <td>501.000000</td>\n",
       "      <td>10000.000000</td>\n",
       "    </tr>\n",
       "    <tr>\n",
       "      <th>mean</th>\n",
       "      <td>9959.598500</td>\n",
       "      <td>-0.001898</td>\n",
       "      <td>-0.002599</td>\n",
       "      <td>0.001011</td>\n",
       "      <td>0.000744</td>\n",
       "      <td>-0.001164</td>\n",
       "      <td>0.004127</td>\n",
       "      <td>0.000347</td>\n",
       "      <td>0.002321</td>\n",
       "      <td>-0.000786</td>\n",
       "      <td>...</td>\n",
       "      <td>-0.000008</td>\n",
       "      <td>0.000008</td>\n",
       "      <td>0.000048</td>\n",
       "      <td>0.000189</td>\n",
       "      <td>0.001004</td>\n",
       "      <td>-0.000008</td>\n",
       "      <td>0.000006</td>\n",
       "      <td>0.000062</td>\n",
       "      <td>0.000092</td>\n",
       "      <td>0.005300</td>\n",
       "    </tr>\n",
       "    <tr>\n",
       "      <th>std</th>\n",
       "      <td>5722.930873</td>\n",
       "      <td>0.079458</td>\n",
       "      <td>0.091942</td>\n",
       "      <td>0.213640</td>\n",
       "      <td>0.213748</td>\n",
       "      <td>0.094814</td>\n",
       "      <td>0.164772</td>\n",
       "      <td>0.019482</td>\n",
       "      <td>0.104789</td>\n",
       "      <td>0.115022</td>\n",
       "      <td>...</td>\n",
       "      <td>0.000089</td>\n",
       "      <td>0.000089</td>\n",
       "      <td>0.000566</td>\n",
       "      <td>0.001168</td>\n",
       "      <td>0.250502</td>\n",
       "      <td>0.000089</td>\n",
       "      <td>0.000100</td>\n",
       "      <td>0.000967</td>\n",
       "      <td>0.001060</td>\n",
       "      <td>0.072612</td>\n",
       "    </tr>\n",
       "    <tr>\n",
       "      <th>min</th>\n",
       "      <td>4.000000</td>\n",
       "      <td>-0.310000</td>\n",
       "      <td>-0.399000</td>\n",
       "      <td>-0.397000</td>\n",
       "      <td>-0.397000</td>\n",
       "      <td>-0.404000</td>\n",
       "      <td>-0.566000</td>\n",
       "      <td>-0.044000</td>\n",
       "      <td>-0.232000</td>\n",
       "      <td>-0.393000</td>\n",
       "      <td>...</td>\n",
       "      <td>-0.001000</td>\n",
       "      <td>0.000000</td>\n",
       "      <td>0.000000</td>\n",
       "      <td>0.000000</td>\n",
       "      <td>-0.250000</td>\n",
       "      <td>-0.001000</td>\n",
       "      <td>0.000000</td>\n",
       "      <td>0.000000</td>\n",
       "      <td>0.000000</td>\n",
       "      <td>0.000000</td>\n",
       "    </tr>\n",
       "    <tr>\n",
       "      <th>25%</th>\n",
       "      <td>5035.500000</td>\n",
       "      <td>-0.055000</td>\n",
       "      <td>-0.064000</td>\n",
       "      <td>-0.179000</td>\n",
       "      <td>-0.179000</td>\n",
       "      <td>-0.056000</td>\n",
       "      <td>-0.066000</td>\n",
       "      <td>-0.015000</td>\n",
       "      <td>-0.072000</td>\n",
       "      <td>-0.082000</td>\n",
       "      <td>...</td>\n",
       "      <td>0.000000</td>\n",
       "      <td>0.000000</td>\n",
       "      <td>0.000000</td>\n",
       "      <td>0.000000</td>\n",
       "      <td>-0.250000</td>\n",
       "      <td>0.000000</td>\n",
       "      <td>0.000000</td>\n",
       "      <td>0.000000</td>\n",
       "      <td>0.000000</td>\n",
       "      <td>0.000000</td>\n",
       "    </tr>\n",
       "    <tr>\n",
       "      <th>50%</th>\n",
       "      <td>9974.500000</td>\n",
       "      <td>0.003000</td>\n",
       "      <td>0.004000</td>\n",
       "      <td>-0.033000</td>\n",
       "      <td>-0.034000</td>\n",
       "      <td>0.031000</td>\n",
       "      <td>0.070000</td>\n",
       "      <td>0.000000</td>\n",
       "      <td>-0.032000</td>\n",
       "      <td>0.000000</td>\n",
       "      <td>...</td>\n",
       "      <td>0.000000</td>\n",
       "      <td>0.000000</td>\n",
       "      <td>0.000000</td>\n",
       "      <td>0.000000</td>\n",
       "      <td>0.250000</td>\n",
       "      <td>0.000000</td>\n",
       "      <td>0.000000</td>\n",
       "      <td>0.000000</td>\n",
       "      <td>0.000000</td>\n",
       "      <td>0.000000</td>\n",
       "    </tr>\n",
       "    <tr>\n",
       "      <th>75%</th>\n",
       "      <td>14896.250000</td>\n",
       "      <td>0.056000</td>\n",
       "      <td>0.063000</td>\n",
       "      <td>0.294000</td>\n",
       "      <td>0.294000</td>\n",
       "      <td>0.074000</td>\n",
       "      <td>0.116000</td>\n",
       "      <td>0.015000</td>\n",
       "      <td>0.088000</td>\n",
       "      <td>0.076000</td>\n",
       "      <td>...</td>\n",
       "      <td>0.000000</td>\n",
       "      <td>0.000000</td>\n",
       "      <td>0.000000</td>\n",
       "      <td>0.000000</td>\n",
       "      <td>0.250000</td>\n",
       "      <td>0.000000</td>\n",
       "      <td>0.000000</td>\n",
       "      <td>0.000000</td>\n",
       "      <td>0.000000</td>\n",
       "      <td>0.000000</td>\n",
       "    </tr>\n",
       "    <tr>\n",
       "      <th>max</th>\n",
       "      <td>19923.000000</td>\n",
       "      <td>0.278000</td>\n",
       "      <td>0.280000</td>\n",
       "      <td>0.567000</td>\n",
       "      <td>0.566000</td>\n",
       "      <td>0.292000</td>\n",
       "      <td>0.206000</td>\n",
       "      <td>0.089000</td>\n",
       "      <td>0.488000</td>\n",
       "      <td>0.393000</td>\n",
       "      <td>...</td>\n",
       "      <td>0.000000</td>\n",
       "      <td>0.001000</td>\n",
       "      <td>0.008000</td>\n",
       "      <td>0.014000</td>\n",
       "      <td>0.250000</td>\n",
       "      <td>0.000000</td>\n",
       "      <td>0.002000</td>\n",
       "      <td>0.018000</td>\n",
       "      <td>0.017000</td>\n",
       "      <td>1.000000</td>\n",
       "    </tr>\n",
       "  </tbody>\n",
       "</table>\n",
       "<p>8 rows × 970 columns</p>\n",
       "</div>"
      ],
      "text/plain": [
       "                 Id     L0_S0_F0     L0_S0_F2     L0_S0_F4     L0_S0_F6  \\\n",
       "count  10000.000000  5733.000000  5733.000000  5733.000000  5733.000000   \n",
       "mean    9959.598500    -0.001898    -0.002599     0.001011     0.000744   \n",
       "std     5722.930873     0.079458     0.091942     0.213640     0.213748   \n",
       "min        4.000000    -0.310000    -0.399000    -0.397000    -0.397000   \n",
       "25%     5035.500000    -0.055000    -0.064000    -0.179000    -0.179000   \n",
       "50%     9974.500000     0.003000     0.004000    -0.033000    -0.034000   \n",
       "75%    14896.250000     0.056000     0.063000     0.294000     0.294000   \n",
       "max    19923.000000     0.278000     0.280000     0.567000     0.566000   \n",
       "\n",
       "          L0_S0_F8    L0_S0_F10    L0_S0_F12    L0_S0_F14    L0_S0_F16  \\\n",
       "count  5733.000000  5733.000000  5733.000000  5733.000000  5733.000000   \n",
       "mean     -0.001164     0.004127     0.000347     0.002321    -0.000786   \n",
       "std       0.094814     0.164772     0.019482     0.104789     0.115022   \n",
       "min      -0.404000    -0.566000    -0.044000    -0.232000    -0.393000   \n",
       "25%      -0.056000    -0.066000    -0.015000    -0.072000    -0.082000   \n",
       "50%       0.031000     0.070000     0.000000    -0.032000     0.000000   \n",
       "75%       0.074000     0.116000     0.015000     0.088000     0.076000   \n",
       "max       0.292000     0.206000     0.089000     0.488000     0.393000   \n",
       "\n",
       "           ...       L3_S50_F4245  L3_S50_F4247  L3_S50_F4249  L3_S50_F4251  \\\n",
       "count      ...         249.000000    249.000000    249.000000    249.000000   \n",
       "mean       ...          -0.000008      0.000008      0.000048      0.000189   \n",
       "std        ...           0.000089      0.000089      0.000566      0.001168   \n",
       "min        ...          -0.001000      0.000000      0.000000      0.000000   \n",
       "25%        ...           0.000000      0.000000      0.000000      0.000000   \n",
       "50%        ...           0.000000      0.000000      0.000000      0.000000   \n",
       "75%        ...           0.000000      0.000000      0.000000      0.000000   \n",
       "max        ...           0.000000      0.001000      0.008000      0.014000   \n",
       "\n",
       "       L3_S50_F4253  L3_S51_F4256  L3_S51_F4258  L3_S51_F4260  L3_S51_F4262  \\\n",
       "count    249.000000    501.000000    501.000000    501.000000    501.000000   \n",
       "mean       0.001004     -0.000008      0.000006      0.000062      0.000092   \n",
       "std        0.250502      0.000089      0.000100      0.000967      0.001060   \n",
       "min       -0.250000     -0.001000      0.000000      0.000000      0.000000   \n",
       "25%       -0.250000      0.000000      0.000000      0.000000      0.000000   \n",
       "50%        0.250000      0.000000      0.000000      0.000000      0.000000   \n",
       "75%        0.250000      0.000000      0.000000      0.000000      0.000000   \n",
       "max        0.250000      0.000000      0.002000      0.018000      0.017000   \n",
       "\n",
       "           Response  \n",
       "count  10000.000000  \n",
       "mean       0.005300  \n",
       "std        0.072612  \n",
       "min        0.000000  \n",
       "25%        0.000000  \n",
       "50%        0.000000  \n",
       "75%        0.000000  \n",
       "max        1.000000  \n",
       "\n",
       "[8 rows x 970 columns]"
      ]
     },
     "execution_count": 11,
     "metadata": {},
     "output_type": "execute_result"
    }
   ],
   "source": [
    "train_numeric.describe()"
   ]
  },
  {
   "cell_type": "code",
   "execution_count": 12,
   "metadata": {},
   "outputs": [],
   "source": [
    "train_date = pd.read_csv('train_date.csv', nrows=10000)"
   ]
  },
  {
   "cell_type": "code",
   "execution_count": 13,
   "metadata": {},
   "outputs": [
    {
     "data": {
      "text/html": [
       "<div>\n",
       "<style scoped>\n",
       "    .dataframe tbody tr th:only-of-type {\n",
       "        vertical-align: middle;\n",
       "    }\n",
       "\n",
       "    .dataframe tbody tr th {\n",
       "        vertical-align: top;\n",
       "    }\n",
       "\n",
       "    .dataframe thead th {\n",
       "        text-align: right;\n",
       "    }\n",
       "</style>\n",
       "<table border=\"1\" class=\"dataframe\">\n",
       "  <thead>\n",
       "    <tr style=\"text-align: right;\">\n",
       "      <th></th>\n",
       "      <th>Id</th>\n",
       "      <th>L0_S0_D1</th>\n",
       "      <th>L0_S0_D3</th>\n",
       "      <th>L0_S0_D5</th>\n",
       "      <th>L0_S0_D7</th>\n",
       "      <th>L0_S0_D9</th>\n",
       "      <th>L0_S0_D11</th>\n",
       "      <th>L0_S0_D13</th>\n",
       "      <th>L0_S0_D15</th>\n",
       "      <th>L0_S0_D17</th>\n",
       "      <th>...</th>\n",
       "      <th>L3_S50_D4246</th>\n",
       "      <th>L3_S50_D4248</th>\n",
       "      <th>L3_S50_D4250</th>\n",
       "      <th>L3_S50_D4252</th>\n",
       "      <th>L3_S50_D4254</th>\n",
       "      <th>L3_S51_D4255</th>\n",
       "      <th>L3_S51_D4257</th>\n",
       "      <th>L3_S51_D4259</th>\n",
       "      <th>L3_S51_D4261</th>\n",
       "      <th>L3_S51_D4263</th>\n",
       "    </tr>\n",
       "  </thead>\n",
       "  <tbody>\n",
       "    <tr>\n",
       "      <th>0</th>\n",
       "      <td>4</td>\n",
       "      <td>82.24</td>\n",
       "      <td>82.24</td>\n",
       "      <td>82.24</td>\n",
       "      <td>82.24</td>\n",
       "      <td>82.24</td>\n",
       "      <td>82.24</td>\n",
       "      <td>82.24</td>\n",
       "      <td>82.24</td>\n",
       "      <td>82.24</td>\n",
       "      <td>...</td>\n",
       "      <td>NaN</td>\n",
       "      <td>NaN</td>\n",
       "      <td>NaN</td>\n",
       "      <td>NaN</td>\n",
       "      <td>NaN</td>\n",
       "      <td>NaN</td>\n",
       "      <td>NaN</td>\n",
       "      <td>NaN</td>\n",
       "      <td>NaN</td>\n",
       "      <td>NaN</td>\n",
       "    </tr>\n",
       "    <tr>\n",
       "      <th>1</th>\n",
       "      <td>6</td>\n",
       "      <td>NaN</td>\n",
       "      <td>NaN</td>\n",
       "      <td>NaN</td>\n",
       "      <td>NaN</td>\n",
       "      <td>NaN</td>\n",
       "      <td>NaN</td>\n",
       "      <td>NaN</td>\n",
       "      <td>NaN</td>\n",
       "      <td>NaN</td>\n",
       "      <td>...</td>\n",
       "      <td>NaN</td>\n",
       "      <td>NaN</td>\n",
       "      <td>NaN</td>\n",
       "      <td>NaN</td>\n",
       "      <td>NaN</td>\n",
       "      <td>NaN</td>\n",
       "      <td>NaN</td>\n",
       "      <td>NaN</td>\n",
       "      <td>NaN</td>\n",
       "      <td>NaN</td>\n",
       "    </tr>\n",
       "    <tr>\n",
       "      <th>2</th>\n",
       "      <td>7</td>\n",
       "      <td>1618.70</td>\n",
       "      <td>1618.70</td>\n",
       "      <td>1618.70</td>\n",
       "      <td>1618.70</td>\n",
       "      <td>1618.70</td>\n",
       "      <td>1618.70</td>\n",
       "      <td>1618.70</td>\n",
       "      <td>1618.70</td>\n",
       "      <td>1618.70</td>\n",
       "      <td>...</td>\n",
       "      <td>NaN</td>\n",
       "      <td>NaN</td>\n",
       "      <td>NaN</td>\n",
       "      <td>NaN</td>\n",
       "      <td>NaN</td>\n",
       "      <td>NaN</td>\n",
       "      <td>NaN</td>\n",
       "      <td>NaN</td>\n",
       "      <td>NaN</td>\n",
       "      <td>NaN</td>\n",
       "    </tr>\n",
       "    <tr>\n",
       "      <th>3</th>\n",
       "      <td>9</td>\n",
       "      <td>1149.20</td>\n",
       "      <td>1149.20</td>\n",
       "      <td>1149.20</td>\n",
       "      <td>1149.20</td>\n",
       "      <td>1149.20</td>\n",
       "      <td>1149.20</td>\n",
       "      <td>1149.20</td>\n",
       "      <td>1149.20</td>\n",
       "      <td>1149.20</td>\n",
       "      <td>...</td>\n",
       "      <td>NaN</td>\n",
       "      <td>NaN</td>\n",
       "      <td>NaN</td>\n",
       "      <td>NaN</td>\n",
       "      <td>NaN</td>\n",
       "      <td>NaN</td>\n",
       "      <td>NaN</td>\n",
       "      <td>NaN</td>\n",
       "      <td>NaN</td>\n",
       "      <td>NaN</td>\n",
       "    </tr>\n",
       "    <tr>\n",
       "      <th>4</th>\n",
       "      <td>11</td>\n",
       "      <td>602.64</td>\n",
       "      <td>602.64</td>\n",
       "      <td>602.64</td>\n",
       "      <td>602.64</td>\n",
       "      <td>602.64</td>\n",
       "      <td>602.64</td>\n",
       "      <td>602.64</td>\n",
       "      <td>602.64</td>\n",
       "      <td>602.64</td>\n",
       "      <td>...</td>\n",
       "      <td>NaN</td>\n",
       "      <td>NaN</td>\n",
       "      <td>NaN</td>\n",
       "      <td>NaN</td>\n",
       "      <td>NaN</td>\n",
       "      <td>NaN</td>\n",
       "      <td>NaN</td>\n",
       "      <td>NaN</td>\n",
       "      <td>NaN</td>\n",
       "      <td>NaN</td>\n",
       "    </tr>\n",
       "  </tbody>\n",
       "</table>\n",
       "<p>5 rows × 1157 columns</p>\n",
       "</div>"
      ],
      "text/plain": [
       "   Id  L0_S0_D1  L0_S0_D3  L0_S0_D5  L0_S0_D7  L0_S0_D9  L0_S0_D11  L0_S0_D13  \\\n",
       "0   4     82.24     82.24     82.24     82.24     82.24      82.24      82.24   \n",
       "1   6       NaN       NaN       NaN       NaN       NaN        NaN        NaN   \n",
       "2   7   1618.70   1618.70   1618.70   1618.70   1618.70    1618.70    1618.70   \n",
       "3   9   1149.20   1149.20   1149.20   1149.20   1149.20    1149.20    1149.20   \n",
       "4  11    602.64    602.64    602.64    602.64    602.64     602.64     602.64   \n",
       "\n",
       "   L0_S0_D15  L0_S0_D17      ...       L3_S50_D4246  L3_S50_D4248  \\\n",
       "0      82.24      82.24      ...                NaN           NaN   \n",
       "1        NaN        NaN      ...                NaN           NaN   \n",
       "2    1618.70    1618.70      ...                NaN           NaN   \n",
       "3    1149.20    1149.20      ...                NaN           NaN   \n",
       "4     602.64     602.64      ...                NaN           NaN   \n",
       "\n",
       "   L3_S50_D4250  L3_S50_D4252  L3_S50_D4254  L3_S51_D4255  L3_S51_D4257  \\\n",
       "0           NaN           NaN           NaN           NaN           NaN   \n",
       "1           NaN           NaN           NaN           NaN           NaN   \n",
       "2           NaN           NaN           NaN           NaN           NaN   \n",
       "3           NaN           NaN           NaN           NaN           NaN   \n",
       "4           NaN           NaN           NaN           NaN           NaN   \n",
       "\n",
       "   L3_S51_D4259  L3_S51_D4261  L3_S51_D4263  \n",
       "0           NaN           NaN           NaN  \n",
       "1           NaN           NaN           NaN  \n",
       "2           NaN           NaN           NaN  \n",
       "3           NaN           NaN           NaN  \n",
       "4           NaN           NaN           NaN  \n",
       "\n",
       "[5 rows x 1157 columns]"
      ]
     },
     "execution_count": 13,
     "metadata": {},
     "output_type": "execute_result"
    }
   ],
   "source": [
    "train_date.head()"
   ]
  },
  {
   "cell_type": "code",
   "execution_count": 14,
   "metadata": {},
   "outputs": [
    {
     "data": {
      "text/html": [
       "<div>\n",
       "<style scoped>\n",
       "    .dataframe tbody tr th:only-of-type {\n",
       "        vertical-align: middle;\n",
       "    }\n",
       "\n",
       "    .dataframe tbody tr th {\n",
       "        vertical-align: top;\n",
       "    }\n",
       "\n",
       "    .dataframe thead th {\n",
       "        text-align: right;\n",
       "    }\n",
       "</style>\n",
       "<table border=\"1\" class=\"dataframe\">\n",
       "  <thead>\n",
       "    <tr style=\"text-align: right;\">\n",
       "      <th></th>\n",
       "      <th>Id</th>\n",
       "      <th>L0_S0_F0</th>\n",
       "      <th>L0_S0_F2</th>\n",
       "      <th>L0_S0_F4</th>\n",
       "      <th>L0_S0_F6</th>\n",
       "      <th>L0_S0_F8</th>\n",
       "      <th>L0_S0_F10</th>\n",
       "      <th>L0_S0_F12</th>\n",
       "      <th>L0_S0_F14</th>\n",
       "      <th>L0_S0_F16</th>\n",
       "      <th>...</th>\n",
       "      <th>L3_S50_D4246</th>\n",
       "      <th>L3_S50_D4248</th>\n",
       "      <th>L3_S50_D4250</th>\n",
       "      <th>L3_S50_D4252</th>\n",
       "      <th>L3_S50_D4254</th>\n",
       "      <th>L3_S51_D4255</th>\n",
       "      <th>L3_S51_D4257</th>\n",
       "      <th>L3_S51_D4259</th>\n",
       "      <th>L3_S51_D4261</th>\n",
       "      <th>L3_S51_D4263</th>\n",
       "    </tr>\n",
       "  </thead>\n",
       "  <tbody>\n",
       "    <tr>\n",
       "      <th>0</th>\n",
       "      <td>4</td>\n",
       "      <td>0.030</td>\n",
       "      <td>-0.034</td>\n",
       "      <td>-0.197</td>\n",
       "      <td>-0.179</td>\n",
       "      <td>0.118</td>\n",
       "      <td>0.116</td>\n",
       "      <td>-0.015</td>\n",
       "      <td>-0.032</td>\n",
       "      <td>0.020</td>\n",
       "      <td>...</td>\n",
       "      <td>NaN</td>\n",
       "      <td>NaN</td>\n",
       "      <td>NaN</td>\n",
       "      <td>NaN</td>\n",
       "      <td>NaN</td>\n",
       "      <td>NaN</td>\n",
       "      <td>NaN</td>\n",
       "      <td>NaN</td>\n",
       "      <td>NaN</td>\n",
       "      <td>NaN</td>\n",
       "    </tr>\n",
       "    <tr>\n",
       "      <th>1</th>\n",
       "      <td>6</td>\n",
       "      <td>NaN</td>\n",
       "      <td>NaN</td>\n",
       "      <td>NaN</td>\n",
       "      <td>NaN</td>\n",
       "      <td>NaN</td>\n",
       "      <td>NaN</td>\n",
       "      <td>NaN</td>\n",
       "      <td>NaN</td>\n",
       "      <td>NaN</td>\n",
       "      <td>...</td>\n",
       "      <td>NaN</td>\n",
       "      <td>NaN</td>\n",
       "      <td>NaN</td>\n",
       "      <td>NaN</td>\n",
       "      <td>NaN</td>\n",
       "      <td>NaN</td>\n",
       "      <td>NaN</td>\n",
       "      <td>NaN</td>\n",
       "      <td>NaN</td>\n",
       "      <td>NaN</td>\n",
       "    </tr>\n",
       "    <tr>\n",
       "      <th>2</th>\n",
       "      <td>7</td>\n",
       "      <td>0.088</td>\n",
       "      <td>0.086</td>\n",
       "      <td>0.003</td>\n",
       "      <td>-0.052</td>\n",
       "      <td>0.161</td>\n",
       "      <td>0.025</td>\n",
       "      <td>-0.015</td>\n",
       "      <td>-0.072</td>\n",
       "      <td>-0.225</td>\n",
       "      <td>...</td>\n",
       "      <td>NaN</td>\n",
       "      <td>NaN</td>\n",
       "      <td>NaN</td>\n",
       "      <td>NaN</td>\n",
       "      <td>NaN</td>\n",
       "      <td>NaN</td>\n",
       "      <td>NaN</td>\n",
       "      <td>NaN</td>\n",
       "      <td>NaN</td>\n",
       "      <td>NaN</td>\n",
       "    </tr>\n",
       "    <tr>\n",
       "      <th>3</th>\n",
       "      <td>9</td>\n",
       "      <td>-0.036</td>\n",
       "      <td>-0.064</td>\n",
       "      <td>0.294</td>\n",
       "      <td>0.330</td>\n",
       "      <td>0.074</td>\n",
       "      <td>0.161</td>\n",
       "      <td>0.022</td>\n",
       "      <td>0.128</td>\n",
       "      <td>-0.026</td>\n",
       "      <td>...</td>\n",
       "      <td>NaN</td>\n",
       "      <td>NaN</td>\n",
       "      <td>NaN</td>\n",
       "      <td>NaN</td>\n",
       "      <td>NaN</td>\n",
       "      <td>NaN</td>\n",
       "      <td>NaN</td>\n",
       "      <td>NaN</td>\n",
       "      <td>NaN</td>\n",
       "      <td>NaN</td>\n",
       "    </tr>\n",
       "    <tr>\n",
       "      <th>4</th>\n",
       "      <td>11</td>\n",
       "      <td>-0.055</td>\n",
       "      <td>-0.086</td>\n",
       "      <td>0.294</td>\n",
       "      <td>0.330</td>\n",
       "      <td>0.118</td>\n",
       "      <td>0.025</td>\n",
       "      <td>0.030</td>\n",
       "      <td>0.168</td>\n",
       "      <td>-0.169</td>\n",
       "      <td>...</td>\n",
       "      <td>NaN</td>\n",
       "      <td>NaN</td>\n",
       "      <td>NaN</td>\n",
       "      <td>NaN</td>\n",
       "      <td>NaN</td>\n",
       "      <td>NaN</td>\n",
       "      <td>NaN</td>\n",
       "      <td>NaN</td>\n",
       "      <td>NaN</td>\n",
       "      <td>NaN</td>\n",
       "    </tr>\n",
       "  </tbody>\n",
       "</table>\n",
       "<p>5 rows × 2126 columns</p>\n",
       "</div>"
      ],
      "text/plain": [
       "   Id  L0_S0_F0  L0_S0_F2  L0_S0_F4  L0_S0_F6  L0_S0_F8  L0_S0_F10  L0_S0_F12  \\\n",
       "0   4     0.030    -0.034    -0.197    -0.179     0.118      0.116     -0.015   \n",
       "1   6       NaN       NaN       NaN       NaN       NaN        NaN        NaN   \n",
       "2   7     0.088     0.086     0.003    -0.052     0.161      0.025     -0.015   \n",
       "3   9    -0.036    -0.064     0.294     0.330     0.074      0.161      0.022   \n",
       "4  11    -0.055    -0.086     0.294     0.330     0.118      0.025      0.030   \n",
       "\n",
       "   L0_S0_F14  L0_S0_F16      ...       L3_S50_D4246  L3_S50_D4248  \\\n",
       "0     -0.032      0.020      ...                NaN           NaN   \n",
       "1        NaN        NaN      ...                NaN           NaN   \n",
       "2     -0.072     -0.225      ...                NaN           NaN   \n",
       "3      0.128     -0.026      ...                NaN           NaN   \n",
       "4      0.168     -0.169      ...                NaN           NaN   \n",
       "\n",
       "   L3_S50_D4250  L3_S50_D4252  L3_S50_D4254  L3_S51_D4255  L3_S51_D4257  \\\n",
       "0           NaN           NaN           NaN           NaN           NaN   \n",
       "1           NaN           NaN           NaN           NaN           NaN   \n",
       "2           NaN           NaN           NaN           NaN           NaN   \n",
       "3           NaN           NaN           NaN           NaN           NaN   \n",
       "4           NaN           NaN           NaN           NaN           NaN   \n",
       "\n",
       "   L3_S51_D4259  L3_S51_D4261  L3_S51_D4263  \n",
       "0           NaN           NaN           NaN  \n",
       "1           NaN           NaN           NaN  \n",
       "2           NaN           NaN           NaN  \n",
       "3           NaN           NaN           NaN  \n",
       "4           NaN           NaN           NaN  \n",
       "\n",
       "[5 rows x 2126 columns]"
      ]
     },
     "execution_count": 14,
     "metadata": {},
     "output_type": "execute_result"
    }
   ],
   "source": [
    "data_merge = pd.merge(train_numeric, train_date,on = 'Id')\n",
    "data_merge.head()"
   ]
  },
  {
   "cell_type": "code",
   "execution_count": 15,
   "metadata": {},
   "outputs": [],
   "source": [
    "dataclean = data_merge.dropna(axis=1, thresh = int(len(data_merge)*0.5)) # drop columns (axis = 1) with NA\n",
    "dataclean = dataclean.fillna(0)                                         # replace NA (in each row) with 0"
   ]
  },
  {
   "cell_type": "code",
   "execution_count": 16,
   "metadata": {
    "scrolled": false
   },
   "outputs": [
    {
     "data": {
      "text/html": [
       "<div>\n",
       "<style scoped>\n",
       "    .dataframe tbody tr th:only-of-type {\n",
       "        vertical-align: middle;\n",
       "    }\n",
       "\n",
       "    .dataframe tbody tr th {\n",
       "        vertical-align: top;\n",
       "    }\n",
       "\n",
       "    .dataframe thead th {\n",
       "        text-align: right;\n",
       "    }\n",
       "</style>\n",
       "<table border=\"1\" class=\"dataframe\">\n",
       "  <thead>\n",
       "    <tr style=\"text-align: right;\">\n",
       "      <th></th>\n",
       "      <th>Id</th>\n",
       "      <th>L0_S0_F0</th>\n",
       "      <th>L0_S0_F2</th>\n",
       "      <th>L0_S0_F4</th>\n",
       "      <th>L0_S0_F6</th>\n",
       "      <th>L0_S0_F8</th>\n",
       "      <th>L0_S0_F10</th>\n",
       "      <th>L0_S0_F12</th>\n",
       "      <th>L0_S0_F14</th>\n",
       "      <th>L0_S0_F16</th>\n",
       "      <th>...</th>\n",
       "      <th>L3_S34_D3877</th>\n",
       "      <th>L3_S34_D3879</th>\n",
       "      <th>L3_S34_D3881</th>\n",
       "      <th>L3_S34_D3883</th>\n",
       "      <th>L3_S37_D3942</th>\n",
       "      <th>L3_S37_D3943</th>\n",
       "      <th>L3_S37_D3945</th>\n",
       "      <th>L3_S37_D3947</th>\n",
       "      <th>L3_S37_D3949</th>\n",
       "      <th>L3_S37_D3951</th>\n",
       "    </tr>\n",
       "  </thead>\n",
       "  <tbody>\n",
       "    <tr>\n",
       "      <th>0</th>\n",
       "      <td>4</td>\n",
       "      <td>0.030</td>\n",
       "      <td>-0.034</td>\n",
       "      <td>-0.197</td>\n",
       "      <td>-0.179</td>\n",
       "      <td>0.118</td>\n",
       "      <td>0.116</td>\n",
       "      <td>-0.015</td>\n",
       "      <td>-0.032</td>\n",
       "      <td>0.020</td>\n",
       "      <td>...</td>\n",
       "      <td>87.28</td>\n",
       "      <td>87.28</td>\n",
       "      <td>87.28</td>\n",
       "      <td>87.28</td>\n",
       "      <td>87.29</td>\n",
       "      <td>87.29</td>\n",
       "      <td>87.29</td>\n",
       "      <td>87.29</td>\n",
       "      <td>87.29</td>\n",
       "      <td>87.29</td>\n",
       "    </tr>\n",
       "    <tr>\n",
       "      <th>1</th>\n",
       "      <td>6</td>\n",
       "      <td>0.000</td>\n",
       "      <td>0.000</td>\n",
       "      <td>0.000</td>\n",
       "      <td>0.000</td>\n",
       "      <td>0.000</td>\n",
       "      <td>0.000</td>\n",
       "      <td>0.000</td>\n",
       "      <td>0.000</td>\n",
       "      <td>0.000</td>\n",
       "      <td>...</td>\n",
       "      <td>1315.75</td>\n",
       "      <td>1315.75</td>\n",
       "      <td>1315.75</td>\n",
       "      <td>1315.75</td>\n",
       "      <td>1315.75</td>\n",
       "      <td>1315.75</td>\n",
       "      <td>1315.75</td>\n",
       "      <td>1315.75</td>\n",
       "      <td>1315.75</td>\n",
       "      <td>1315.75</td>\n",
       "    </tr>\n",
       "    <tr>\n",
       "      <th>2</th>\n",
       "      <td>7</td>\n",
       "      <td>0.088</td>\n",
       "      <td>0.086</td>\n",
       "      <td>0.003</td>\n",
       "      <td>-0.052</td>\n",
       "      <td>0.161</td>\n",
       "      <td>0.025</td>\n",
       "      <td>-0.015</td>\n",
       "      <td>-0.072</td>\n",
       "      <td>-0.225</td>\n",
       "      <td>...</td>\n",
       "      <td>1624.42</td>\n",
       "      <td>1624.42</td>\n",
       "      <td>1624.42</td>\n",
       "      <td>1624.42</td>\n",
       "      <td>1624.42</td>\n",
       "      <td>1624.42</td>\n",
       "      <td>1624.42</td>\n",
       "      <td>1624.42</td>\n",
       "      <td>1624.42</td>\n",
       "      <td>1624.42</td>\n",
       "    </tr>\n",
       "    <tr>\n",
       "      <th>3</th>\n",
       "      <td>9</td>\n",
       "      <td>-0.036</td>\n",
       "      <td>-0.064</td>\n",
       "      <td>0.294</td>\n",
       "      <td>0.330</td>\n",
       "      <td>0.074</td>\n",
       "      <td>0.161</td>\n",
       "      <td>0.022</td>\n",
       "      <td>0.128</td>\n",
       "      <td>-0.026</td>\n",
       "      <td>...</td>\n",
       "      <td>1154.15</td>\n",
       "      <td>1154.15</td>\n",
       "      <td>1154.15</td>\n",
       "      <td>1154.15</td>\n",
       "      <td>1154.16</td>\n",
       "      <td>1154.16</td>\n",
       "      <td>1154.16</td>\n",
       "      <td>1154.16</td>\n",
       "      <td>1154.16</td>\n",
       "      <td>1154.16</td>\n",
       "    </tr>\n",
       "    <tr>\n",
       "      <th>4</th>\n",
       "      <td>11</td>\n",
       "      <td>-0.055</td>\n",
       "      <td>-0.086</td>\n",
       "      <td>0.294</td>\n",
       "      <td>0.330</td>\n",
       "      <td>0.118</td>\n",
       "      <td>0.025</td>\n",
       "      <td>0.030</td>\n",
       "      <td>0.168</td>\n",
       "      <td>-0.169</td>\n",
       "      <td>...</td>\n",
       "      <td>606.01</td>\n",
       "      <td>606.01</td>\n",
       "      <td>606.01</td>\n",
       "      <td>606.01</td>\n",
       "      <td>606.02</td>\n",
       "      <td>606.02</td>\n",
       "      <td>606.02</td>\n",
       "      <td>606.02</td>\n",
       "      <td>606.02</td>\n",
       "      <td>606.02</td>\n",
       "    </tr>\n",
       "  </tbody>\n",
       "</table>\n",
       "<p>5 rows × 328 columns</p>\n",
       "</div>"
      ],
      "text/plain": [
       "   Id  L0_S0_F0  L0_S0_F2  L0_S0_F4  L0_S0_F6  L0_S0_F8  L0_S0_F10  L0_S0_F12  \\\n",
       "0   4     0.030    -0.034    -0.197    -0.179     0.118      0.116     -0.015   \n",
       "1   6     0.000     0.000     0.000     0.000     0.000      0.000      0.000   \n",
       "2   7     0.088     0.086     0.003    -0.052     0.161      0.025     -0.015   \n",
       "3   9    -0.036    -0.064     0.294     0.330     0.074      0.161      0.022   \n",
       "4  11    -0.055    -0.086     0.294     0.330     0.118      0.025      0.030   \n",
       "\n",
       "   L0_S0_F14  L0_S0_F16      ...       L3_S34_D3877  L3_S34_D3879  \\\n",
       "0     -0.032      0.020      ...              87.28         87.28   \n",
       "1      0.000      0.000      ...            1315.75       1315.75   \n",
       "2     -0.072     -0.225      ...            1624.42       1624.42   \n",
       "3      0.128     -0.026      ...            1154.15       1154.15   \n",
       "4      0.168     -0.169      ...             606.01        606.01   \n",
       "\n",
       "   L3_S34_D3881  L3_S34_D3883  L3_S37_D3942  L3_S37_D3943  L3_S37_D3945  \\\n",
       "0         87.28         87.28         87.29         87.29         87.29   \n",
       "1       1315.75       1315.75       1315.75       1315.75       1315.75   \n",
       "2       1624.42       1624.42       1624.42       1624.42       1624.42   \n",
       "3       1154.15       1154.15       1154.16       1154.16       1154.16   \n",
       "4        606.01        606.01        606.02        606.02        606.02   \n",
       "\n",
       "   L3_S37_D3947  L3_S37_D3949  L3_S37_D3951  \n",
       "0         87.29         87.29         87.29  \n",
       "1       1315.75       1315.75       1315.75  \n",
       "2       1624.42       1624.42       1624.42  \n",
       "3       1154.16       1154.16       1154.16  \n",
       "4        606.02        606.02        606.02  \n",
       "\n",
       "[5 rows x 328 columns]"
      ]
     },
     "execution_count": 16,
     "metadata": {},
     "output_type": "execute_result"
    }
   ],
   "source": [
    "dataclean.head()"
   ]
  },
  {
   "cell_type": "code",
   "execution_count": 17,
   "metadata": {},
   "outputs": [],
   "source": [
    "# encoding the labels (aligning the labels in order)\n",
    " \n",
    "le = preprocessing.LabelEncoder()\n",
    "dataclean['Id'] = le.fit_transform(dataclean.Id)"
   ]
  },
  {
   "cell_type": "code",
   "execution_count": 21,
   "metadata": {},
   "outputs": [],
   "source": [
    "# Splitting data into Training and testing by ignoring ID column as its Identical column\n",
    "from sklearn.model_selection import train_test_split\n",
    "\n",
    "featurelist =  list(dataclean.columns.values)\n",
    "featurelist.remove('Id')        \n",
    "featurelist.remove('Response')   \n",
    "features_train,features_test,labels_train,labels_test = train_test_split(dataclean[featurelist],\n",
    "                                                              dataclean['Response'], test_size=0.1, random_state=42)\n"
   ]
  },
  {
   "cell_type": "markdown",
   "metadata": {
    "collapsed": true
   },
   "source": [
    "Training data\n",
    "features_train  # ind columns\n",
    "labels_train  # dependent columns\n",
    "Testing Data\n",
    "features_test # ind columns\n",
    "labels_test# dependent columns"
   ]
  },
  {
   "cell_type": "markdown",
   "metadata": {},
   "source": [
    "### Naive Bayes classifier #########################"
   ]
  },
  {
   "cell_type": "code",
   "execution_count": 22,
   "metadata": {},
   "outputs": [],
   "source": [
    "import matplotlib.pyplot as plt\n",
    "%matplotlib inline\n",
    "import seaborn as sns\n",
    "from sklearn.naive_bayes import BernoulliNB"
   ]
  },
  {
   "cell_type": "code",
   "execution_count": 23,
   "metadata": {},
   "outputs": [
    {
     "data": {
      "text/plain": [
       "BernoulliNB(alpha=1.0, binarize=0.0, class_prior=None, fit_prior=True)"
      ]
     },
     "execution_count": 23,
     "metadata": {},
     "output_type": "execute_result"
    }
   ],
   "source": [
    "naive_bayes = BernoulliNB()\n",
    "naive_bayes.fit(features_test,labels_test)"
   ]
  },
  {
   "cell_type": "code",
   "execution_count": 24,
   "metadata": {},
   "outputs": [
    {
     "data": {
      "text/plain": [
       "array([[2.17550337e-61, 1.00000000e+00],\n",
       "       [1.00000000e+00, 8.75323780e-16],\n",
       "       [9.95446638e-01, 4.55336196e-03],\n",
       "       ...,\n",
       "       [1.00000000e+00, 1.09617096e-13],\n",
       "       [1.00000000e+00, 6.21435377e-25],\n",
       "       [1.00000000e+00, 3.36844174e-11]])"
      ]
     },
     "execution_count": 24,
     "metadata": {},
     "output_type": "execute_result"
    }
   ],
   "source": [
    "p_station = naive_bayes.predict_proba(features_test)\n",
    "p_station"
   ]
  },
  {
   "cell_type": "code",
   "execution_count": 25,
   "metadata": {},
   "outputs": [
    {
     "data": {
      "text/plain": [
       "array([1, 0, 0, 0, 0, 0, 0, 0, 0, 0, 0, 0, 0, 0, 0, 0, 0, 1, 0, 0, 0, 0,\n",
       "       0, 0, 0, 0, 0, 0, 0, 0, 0, 0, 0, 0, 0, 0, 0, 0, 0, 0, 0, 0, 1, 1,\n",
       "       0, 0, 0, 0, 0, 0, 0, 0, 0, 0, 0, 0, 0, 0, 1, 0, 0, 0, 0, 0, 0, 0,\n",
       "       0, 0, 0, 0, 0, 0, 0, 0, 0, 0, 0, 0, 0, 0, 0, 0, 0, 0, 0, 0, 0, 0,\n",
       "       0, 0, 0, 0, 0, 0, 0, 0, 0, 0, 0, 0, 1, 0, 1, 0, 0, 0, 0, 0, 0, 0,\n",
       "       1, 0, 0, 0, 0, 0, 0, 0, 0, 0, 0, 0, 0, 0, 0, 0, 0, 0, 0, 0, 0, 0,\n",
       "       0, 0, 0, 0, 0, 0, 0, 0, 0, 0, 0, 0, 0, 0, 0, 0, 0, 0, 0, 0, 0, 0,\n",
       "       0, 0, 0, 0, 0, 0, 0, 0, 0, 0, 0, 0, 0, 0, 0, 0, 0, 0, 0, 0, 0, 0,\n",
       "       0, 0, 0, 0, 0, 0, 0, 0, 0, 0, 0, 0, 0, 0, 0, 0, 0, 1, 0, 0, 0, 0,\n",
       "       0, 0, 0, 0, 0, 0, 0, 0, 0, 0, 0, 0, 0, 0, 0, 0, 0, 0, 0, 0, 0, 0,\n",
       "       0, 0, 0, 0, 0, 0, 0, 0, 0, 0, 0, 0, 0, 0, 0, 0, 0, 0, 0, 0, 0, 0,\n",
       "       0, 0, 0, 0, 0, 1, 0, 0, 0, 1, 0, 0, 0, 0, 0, 0, 0, 0, 0, 0, 0, 0,\n",
       "       0, 0, 0, 0, 0, 0, 0, 0, 0, 0, 0, 0, 0, 0, 0, 0, 0, 0, 0, 0, 0, 0,\n",
       "       0, 0, 0, 0, 0, 0, 0, 0, 0, 0, 0, 0, 0, 1, 0, 1, 0, 0, 0, 0, 0, 0,\n",
       "       0, 1, 0, 0, 1, 0, 0, 0, 0, 0, 1, 0, 0, 0, 0, 0, 0, 0, 0, 0, 0, 0,\n",
       "       0, 0, 0, 0, 0, 0, 0, 0, 0, 0, 1, 0, 0, 0, 0, 0, 0, 0, 0, 0, 0, 0,\n",
       "       0, 0, 0, 0, 0, 0, 0, 0, 1, 0, 0, 0, 0, 0, 0, 0, 0, 0, 0, 0, 0, 0,\n",
       "       0, 0, 0, 0, 0, 1, 0, 0, 0, 0, 0, 0, 0, 0, 0, 0, 0, 0, 0, 0, 0, 0,\n",
       "       0, 1, 0, 0, 0, 0, 0, 0, 0, 0, 0, 1, 0, 0, 0, 0, 0, 0, 0, 0, 0, 0,\n",
       "       0, 1, 0, 1, 0, 0, 0, 0, 0, 0, 0, 0, 0, 0, 0, 0, 0, 0, 0, 0, 0, 0,\n",
       "       0, 0, 0, 0, 0, 0, 1, 0, 0, 0, 0, 0, 0, 0, 0, 0, 0, 0, 0, 0, 0, 0,\n",
       "       0, 0, 0, 0, 0, 0, 0, 0, 0, 0, 0, 0, 0, 0, 0, 0, 0, 0, 0, 0, 0, 0,\n",
       "       0, 0, 0, 0, 0, 0, 0, 0, 0, 0, 0, 0, 1, 0, 0, 0, 0, 0, 0, 0, 0, 0,\n",
       "       0, 0, 0, 0, 0, 0, 1, 0, 0, 0, 0, 0, 0, 0, 1, 0, 0, 0, 0, 0, 0, 0,\n",
       "       0, 0, 0, 0, 0, 0, 0, 0, 0, 0, 0, 0, 0, 0, 0, 0, 0, 1, 0, 0, 0, 0,\n",
       "       0, 0, 0, 0, 0, 0, 0, 0, 1, 0, 0, 0, 0, 0, 0, 0, 0, 0, 0, 0, 0, 0,\n",
       "       0, 1, 0, 0, 0, 0, 0, 0, 0, 0, 0, 0, 0, 0, 0, 0, 0, 0, 0, 0, 0, 0,\n",
       "       0, 0, 0, 0, 0, 1, 0, 0, 0, 0, 0, 0, 1, 0, 0, 0, 0, 0, 0, 0, 0, 0,\n",
       "       0, 0, 0, 0, 0, 0, 0, 0, 0, 0, 0, 0, 0, 0, 0, 0, 0, 0, 0, 0, 0, 0,\n",
       "       0, 0, 0, 0, 0, 0, 0, 0, 0, 0, 1, 0, 0, 0, 0, 1, 0, 1, 0, 0, 0, 0,\n",
       "       0, 0, 0, 1, 0, 0, 0, 0, 0, 0, 0, 0, 0, 0, 0, 0, 0, 0, 0, 0, 0, 0,\n",
       "       0, 0, 0, 0, 0, 0, 0, 0, 0, 0, 0, 0, 0, 0, 0, 0, 0, 0, 0, 0, 0, 0,\n",
       "       0, 0, 0, 0, 0, 0, 0, 0, 0, 0, 0, 0, 0, 0, 0, 0, 0, 1, 0, 0, 0, 0,\n",
       "       0, 0, 0, 0, 0, 0, 0, 0, 0, 0, 0, 0, 0, 0, 0, 0, 0, 0, 0, 0, 0, 0,\n",
       "       1, 0, 0, 0, 0, 0, 0, 0, 0, 0, 0, 0, 0, 0, 1, 0, 0, 0, 0, 0, 0, 0,\n",
       "       0, 0, 0, 0, 0, 0, 0, 0, 0, 0, 0, 0, 0, 0, 0, 0, 0, 0, 0, 0, 0, 0,\n",
       "       1, 0, 0, 0, 0, 0, 0, 0, 0, 0, 0, 0, 0, 0, 0, 1, 0, 0, 0, 0, 0, 0,\n",
       "       0, 0, 0, 0, 0, 1, 0, 0, 0, 0, 0, 0, 0, 0, 1, 0, 1, 0, 0, 0, 0, 0,\n",
       "       0, 0, 0, 1, 0, 0, 0, 0, 0, 0, 0, 0, 0, 0, 1, 0, 0, 0, 0, 0, 0, 0,\n",
       "       0, 0, 0, 0, 0, 0, 0, 0, 0, 0, 0, 0, 0, 0, 0, 0, 1, 0, 0, 0, 0, 0,\n",
       "       0, 0, 0, 0, 0, 0, 1, 0, 0, 0, 0, 0, 0, 0, 0, 0, 0, 0, 1, 0, 0, 0,\n",
       "       0, 0, 0, 0, 0, 0, 0, 0, 0, 0, 0, 0, 0, 1, 0, 0, 0, 0, 0, 0, 0, 0,\n",
       "       0, 0, 0, 0, 0, 0, 1, 0, 0, 0, 0, 0, 0, 0, 0, 0, 0, 0, 0, 0, 0, 0,\n",
       "       0, 0, 0, 0, 0, 0, 0, 0, 0, 0, 0, 0, 0, 0, 0, 0, 0, 0, 0, 0, 0, 0,\n",
       "       0, 0, 0, 0, 0, 0, 0, 0, 0, 0, 1, 0, 0, 0, 0, 0, 0, 0, 0, 0, 0, 0,\n",
       "       0, 1, 0, 0, 0, 0, 0, 0, 0, 0])"
      ]
     },
     "execution_count": 25,
     "metadata": {},
     "output_type": "execute_result"
    }
   ],
   "source": [
    "# 0 = Not failure, 1  = Failure\n",
    "pred = naive_bayes.predict(features_test)\n"
   ]
  },
  {
   "cell_type": "code",
   "execution_count": 26,
   "metadata": {},
   "outputs": [
    {
     "data": {
      "text/plain": [
       "(1000,)"
      ]
     },
     "execution_count": 26,
     "metadata": {},
     "output_type": "execute_result"
    }
   ],
   "source": [
    "labels_test.shape"
   ]
  },
  {
   "cell_type": "code",
   "execution_count": 27,
   "metadata": {},
   "outputs": [
    {
     "data": {
      "text/plain": [
       "(1000,)"
      ]
     },
     "execution_count": 27,
     "metadata": {},
     "output_type": "execute_result"
    }
   ],
   "source": [
    "pred.shape"
   ]
  },
  {
   "cell_type": "code",
   "execution_count": 28,
   "metadata": {},
   "outputs": [
    {
     "data": {
      "text/plain": [
       "0.943"
      ]
     },
     "execution_count": 28,
     "metadata": {},
     "output_type": "execute_result"
    }
   ],
   "source": [
    "accuracy = accuracy_score(labels_test ,pred)\n",
    "accuracy"
   ]
  },
  {
   "cell_type": "markdown",
   "metadata": {
    "collapsed": true
   },
   "source": [
    "## Random Forest Classifier################"
   ]
  },
  {
   "cell_type": "code",
   "execution_count": 29,
   "metadata": {},
   "outputs": [],
   "source": [
    "from sklearn.ensemble import RandomForestClassifier"
   ]
  },
  {
   "cell_type": "code",
   "execution_count": 30,
   "metadata": {},
   "outputs": [],
   "source": [
    "clf = RandomForestClassifier(100, max_depth = 20, n_jobs = -1)"
   ]
  },
  {
   "cell_type": "code",
   "execution_count": 31,
   "metadata": {},
   "outputs": [
    {
     "data": {
      "text/plain": [
       "RandomForestClassifier(bootstrap=True, class_weight=None, criterion='gini',\n",
       "            max_depth=20, max_features='auto', max_leaf_nodes=None,\n",
       "            min_impurity_decrease=0.0, min_impurity_split=None,\n",
       "            min_samples_leaf=1, min_samples_split=2,\n",
       "            min_weight_fraction_leaf=0.0, n_estimators=100, n_jobs=-1,\n",
       "            oob_score=False, random_state=None, verbose=0,\n",
       "            warm_start=False)"
      ]
     },
     "execution_count": 31,
     "metadata": {},
     "output_type": "execute_result"
    }
   ],
   "source": [
    "clf"
   ]
  },
  {
   "cell_type": "code",
   "execution_count": 32,
   "metadata": {},
   "outputs": [
    {
     "data": {
      "text/plain": [
       "RandomForestClassifier(bootstrap=True, class_weight=None, criterion='gini',\n",
       "            max_depth=20, max_features='auto', max_leaf_nodes=None,\n",
       "            min_impurity_decrease=0.0, min_impurity_split=None,\n",
       "            min_samples_leaf=1, min_samples_split=2,\n",
       "            min_weight_fraction_leaf=0.0, n_estimators=100, n_jobs=-1,\n",
       "            oob_score=False, random_state=None, verbose=0,\n",
       "            warm_start=False)"
      ]
     },
     "execution_count": 32,
     "metadata": {},
     "output_type": "execute_result"
    }
   ],
   "source": [
    "clf.fit(features_train,labels_train)"
   ]
  },
  {
   "cell_type": "code",
   "execution_count": 33,
   "metadata": {},
   "outputs": [
    {
     "data": {
      "text/plain": [
       "0.943"
      ]
     },
     "execution_count": 33,
     "metadata": {},
     "output_type": "execute_result"
    }
   ],
   "source": [
    "accuracy = accuracy_score(labels_test, pred)\n",
    "accuracy"
   ]
  },
  {
   "cell_type": "code",
   "execution_count": 34,
   "metadata": {},
   "outputs": [
    {
     "data": {
      "text/plain": [
       "array([0, 0, 0, 0, 0, 0, 0, 0, 0, 0, 0, 0, 0, 0, 0, 0, 0, 0, 0, 0, 0, 0,\n",
       "       0, 0, 0, 0, 0, 0, 0, 0, 0, 0, 0, 0, 0, 0, 0, 0, 0, 0, 0, 0, 0, 0,\n",
       "       0, 0, 0, 0, 1, 0, 0, 0, 0, 0, 0, 0, 0, 0, 0, 0, 0, 0, 0, 0, 0, 0,\n",
       "       0, 0, 0, 0, 0, 0, 0, 0, 0, 0, 0, 0, 0, 0, 0, 0, 0, 0, 0, 0, 0, 0,\n",
       "       0, 0, 0, 0, 0, 0, 0, 0, 0, 0, 0, 0, 0, 0, 0, 0, 0, 0, 0, 0, 0, 0,\n",
       "       0, 0, 0, 0, 0, 0, 0, 0, 0, 0, 0, 0, 0, 0, 0, 0, 0, 0, 0, 0, 0, 0,\n",
       "       0, 0, 0, 0, 0, 0, 0, 0, 0, 0, 0, 0, 0, 0, 0, 0, 0, 0, 0, 0, 0, 0,\n",
       "       0, 0, 0, 0, 0, 0, 0, 0, 0, 0, 0, 0, 0, 0, 0, 0, 0, 0, 0, 0, 0, 0,\n",
       "       0, 0, 0, 0, 0, 0, 0, 0, 0, 0, 0, 0, 0, 0, 0, 0, 0, 0, 0, 0, 0, 0,\n",
       "       0, 0, 0, 0, 0, 0, 0, 0, 0, 0, 0, 0, 0, 0, 0, 0, 0, 0, 0, 0, 0, 0,\n",
       "       0, 0, 0, 0, 0, 0, 0, 0, 0, 0, 0, 0, 0, 0, 0, 0, 0, 0, 0, 0, 0, 0,\n",
       "       0, 0, 0, 0, 0, 0, 0, 0, 0, 0, 0, 0, 0, 0, 0, 0, 0, 0, 0, 0, 0, 0,\n",
       "       0, 0, 0, 0, 0, 0, 0, 0, 0, 0, 0, 0, 0, 0, 0, 0, 0, 0, 0, 0, 0, 0,\n",
       "       0, 0, 0, 0, 0, 0, 0, 0, 0, 0, 0, 0, 0, 0, 0, 0, 0, 0, 0, 0, 0, 0,\n",
       "       0, 0, 0, 0, 0, 0, 0, 0, 0, 0, 0, 0, 0, 0, 0, 0, 0, 0, 0, 0, 0, 0,\n",
       "       0, 0, 0, 1, 0, 0, 0, 0, 0, 0, 0, 0, 0, 0, 0, 0, 0, 0, 0, 0, 0, 0,\n",
       "       0, 0, 0, 0, 0, 0, 0, 0, 0, 0, 0, 0, 0, 0, 0, 0, 0, 0, 0, 0, 0, 0,\n",
       "       0, 0, 0, 0, 0, 0, 0, 0, 0, 0, 0, 0, 0, 0, 0, 0, 0, 0, 0, 0, 0, 0,\n",
       "       0, 0, 0, 0, 0, 0, 0, 0, 0, 0, 0, 0, 0, 0, 0, 0, 0, 0, 0, 0, 0, 0,\n",
       "       0, 0, 0, 0, 0, 0, 0, 0, 0, 0, 0, 0, 0, 0, 0, 0, 0, 0, 0, 0, 0, 0,\n",
       "       0, 0, 0, 0, 0, 0, 0, 0, 0, 0, 0, 0, 0, 0, 0, 0, 0, 0, 0, 0, 0, 0,\n",
       "       0, 0, 0, 0, 0, 0, 0, 0, 0, 0, 0, 0, 0, 0, 0, 0, 0, 0, 0, 0, 0, 0,\n",
       "       0, 0, 0, 0, 0, 0, 0, 0, 0, 0, 0, 0, 0, 0, 0, 0, 0, 0, 0, 0, 0, 0,\n",
       "       0, 0, 0, 0, 0, 0, 0, 0, 0, 0, 0, 0, 0, 0, 0, 0, 0, 0, 0, 0, 0, 0,\n",
       "       0, 0, 0, 0, 0, 0, 0, 0, 0, 0, 0, 0, 0, 0, 0, 0, 0, 0, 0, 0, 0, 0,\n",
       "       0, 0, 0, 0, 0, 0, 0, 0, 0, 0, 0, 0, 0, 0, 0, 0, 0, 0, 0, 0, 0, 0,\n",
       "       0, 0, 0, 0, 0, 0, 0, 0, 0, 0, 0, 0, 0, 0, 0, 0, 0, 0, 0, 0, 0, 0,\n",
       "       0, 0, 0, 0, 0, 0, 0, 0, 0, 0, 0, 0, 0, 0, 0, 0, 0, 0, 0, 0, 0, 0,\n",
       "       0, 0, 0, 0, 0, 0, 0, 0, 0, 0, 0, 0, 0, 0, 0, 0, 0, 0, 0, 0, 0, 0,\n",
       "       0, 0, 0, 0, 0, 0, 0, 0, 0, 0, 0, 0, 0, 0, 0, 0, 0, 0, 0, 0, 0, 0,\n",
       "       0, 0, 0, 0, 0, 0, 0, 0, 0, 0, 0, 0, 0, 0, 0, 0, 0, 0, 0, 0, 0, 0,\n",
       "       0, 0, 0, 0, 0, 0, 0, 0, 0, 0, 0, 0, 0, 0, 0, 0, 0, 0, 0, 0, 0, 0,\n",
       "       0, 0, 0, 0, 0, 0, 0, 0, 0, 0, 0, 0, 0, 0, 0, 0, 0, 0, 0, 0, 0, 0,\n",
       "       0, 0, 0, 0, 0, 0, 0, 0, 0, 0, 0, 0, 0, 0, 0, 0, 0, 0, 0, 0, 0, 0,\n",
       "       0, 0, 0, 0, 0, 0, 0, 0, 0, 0, 0, 0, 0, 0, 0, 0, 0, 0, 0, 0, 0, 0,\n",
       "       0, 0, 0, 0, 0, 0, 0, 0, 0, 0, 0, 0, 0, 0, 0, 0, 0, 0, 0, 0, 0, 0,\n",
       "       0, 0, 0, 0, 0, 0, 0, 0, 0, 0, 0, 0, 0, 0, 0, 0, 0, 0, 0, 0, 0, 0,\n",
       "       0, 0, 0, 0, 0, 0, 0, 0, 0, 0, 0, 0, 0, 0, 0, 0, 0, 0, 0, 0, 0, 0,\n",
       "       0, 0, 0, 0, 0, 0, 0, 0, 0, 0, 0, 0, 0, 0, 0, 0, 0, 0, 0, 0, 0, 0,\n",
       "       0, 0, 0, 0, 0, 0, 0, 0, 0, 0, 0, 0, 0, 0, 0, 0, 0, 0, 0, 0, 0, 0,\n",
       "       0, 0, 0, 0, 0, 0, 0, 0, 0, 0, 0, 0, 0, 0, 0, 0, 0, 0, 0, 0, 0, 0,\n",
       "       0, 0, 0, 0, 0, 0, 0, 0, 0, 0, 0, 0, 0, 0, 0, 0, 0, 0, 0, 0, 0, 0,\n",
       "       0, 0, 0, 0, 0, 0, 0, 0, 0, 0, 0, 0, 0, 0, 0, 0, 0, 0, 0, 0, 0, 0,\n",
       "       0, 0, 0, 0, 0, 0, 0, 0, 0, 0, 0, 0, 0, 0, 0, 0, 0, 0, 0, 0, 0, 0,\n",
       "       0, 0, 0, 0, 0, 0, 0, 0, 0, 0, 0, 0, 0, 0, 0, 0, 0, 0, 0, 0, 0, 0,\n",
       "       0, 0, 0, 0, 0, 0, 0, 0, 0, 0])"
      ]
     },
     "execution_count": 34,
     "metadata": {},
     "output_type": "execute_result"
    }
   ],
   "source": [
    "pred = clf.predict(features_test)\n",
    "pred"
   ]
  },
  {
   "cell_type": "markdown",
   "metadata": {
    "collapsed": true
   },
   "source": [
    "### Optimizing classifier by Randomised Grid Search #######"
   ]
  },
  {
   "cell_type": "code",
   "execution_count": 35,
   "metadata": {},
   "outputs": [],
   "source": [
    "# parameters dict for randomised grid search cv\n",
    "\n",
    "from scipy.stats import randint\n",
    "\n",
    "param_dist = {\"max_depth\": [3, None],\n",
    "              \"max_features\": randint(1, 11),\n",
    "              \"min_samples_split\": randint(2, 11),\n",
    "              \"min_samples_leaf\": randint(1, 11),\n",
    "              \"bootstrap\": [True, False],\n",
    "              \"criterion\": [\"gini\", \"entropy\"]}"
   ]
  },
  {
   "cell_type": "code",
   "execution_count": 36,
   "metadata": {
    "scrolled": true
   },
   "outputs": [
    {
     "data": {
      "text/plain": [
       "RandomizedSearchCV(cv=None, error_score='raise',\n",
       "          estimator=RandomForestClassifier(bootstrap=True, class_weight=None, criterion='gini',\n",
       "            max_depth=None, max_features='auto', max_leaf_nodes=None,\n",
       "            min_impurity_decrease=0.0, min_impurity_split=None,\n",
       "            min_samples_leaf=1, min_samples_split=2,\n",
       "            min_weight_fraction_leaf=0.0, n_estimators=10, n_jobs=1,\n",
       "            oob_score=False, random_state=None, verbose=0,\n",
       "            warm_start=False),\n",
       "          fit_params=None, iid=True, n_iter=10, n_jobs=1,\n",
       "          param_distributions={'max_depth': [3, None], 'max_features': <scipy.stats._distn_infrastructure.rv_frozen object at 0x1a0ccb0f28>, 'min_samples_split': <scipy.stats._distn_infrastructure.rv_frozen object at 0x1a0ccb0e48>, 'min_samples_leaf': <scipy.stats._distn_infrastructure.rv_frozen object at 0x1a0ccb0828>, 'bootstrap': [True, False], 'criterion': ['gini', 'entropy']},\n",
       "          pre_dispatch='2*n_jobs', random_state=None, refit=True,\n",
       "          return_train_score='warn', scoring=None, verbose=0)"
      ]
     },
     "execution_count": 36,
     "metadata": {},
     "output_type": "execute_result"
    }
   ],
   "source": [
    "from sklearn.model_selection import RandomizedSearchCV\n",
    "\n",
    "optimized_forest = RandomizedSearchCV(RandomForestClassifier(), param_distributions = param_dist, n_iter = 10)\n",
    "\n",
    "optimized_forest"
   ]
  },
  {
   "cell_type": "code",
   "execution_count": 37,
   "metadata": {},
   "outputs": [
    {
     "data": {
      "text/plain": [
       "RandomizedSearchCV(cv=None, error_score='raise',\n",
       "          estimator=RandomForestClassifier(bootstrap=True, class_weight=None, criterion='gini',\n",
       "            max_depth=None, max_features='auto', max_leaf_nodes=None,\n",
       "            min_impurity_decrease=0.0, min_impurity_split=None,\n",
       "            min_samples_leaf=1, min_samples_split=2,\n",
       "            min_weight_fraction_leaf=0.0, n_estimators=10, n_jobs=1,\n",
       "            oob_score=False, random_state=None, verbose=0,\n",
       "            warm_start=False),\n",
       "          fit_params=None, iid=True, n_iter=10, n_jobs=1,\n",
       "          param_distributions={'max_depth': [3, None], 'max_features': <scipy.stats._distn_infrastructure.rv_frozen object at 0x1a0ccb0f28>, 'min_samples_split': <scipy.stats._distn_infrastructure.rv_frozen object at 0x1a0ccb0e48>, 'min_samples_leaf': <scipy.stats._distn_infrastructure.rv_frozen object at 0x1a0ccb0828>, 'bootstrap': [True, False], 'criterion': ['gini', 'entropy']},\n",
       "          pre_dispatch='2*n_jobs', random_state=None, refit=True,\n",
       "          return_train_score='warn', scoring=None, verbose=0)"
      ]
     },
     "execution_count": 37,
     "metadata": {},
     "output_type": "execute_result"
    }
   ],
   "source": [
    "import warnings\n",
    "warnings.filterwarnings('once')\n",
    "\n",
    "optimized_forest.fit(features_train, labels_train)"
   ]
  },
  {
   "cell_type": "code",
   "execution_count": 38,
   "metadata": {},
   "outputs": [
    {
     "data": {
      "text/plain": [
       "RandomForestClassifier(bootstrap=False, class_weight=None,\n",
       "            criterion='entropy', max_depth=3, max_features=7,\n",
       "            max_leaf_nodes=None, min_impurity_decrease=0.0,\n",
       "            min_impurity_split=None, min_samples_leaf=3,\n",
       "            min_samples_split=6, min_weight_fraction_leaf=0.0,\n",
       "            n_estimators=10, n_jobs=1, oob_score=False, random_state=None,\n",
       "            verbose=0, warm_start=False)"
      ]
     },
     "execution_count": 38,
     "metadata": {},
     "output_type": "execute_result"
    }
   ],
   "source": [
    "# describe the model with best accuracy\n",
    "clf = optimized_forest.best_estimator_\n",
    "clf"
   ]
  },
  {
   "cell_type": "code",
   "execution_count": 39,
   "metadata": {
    "scrolled": true
   },
   "outputs": [
    {
     "data": {
      "text/plain": [
       "array([0, 0, 0, 0, 0, 0, 0, 0, 0, 0, 0, 0, 0, 0, 0, 0, 0, 0, 0, 0, 0, 0,\n",
       "       0, 0, 0, 0, 0, 0, 0, 0, 0, 0, 0, 0, 0, 0, 0, 0, 0, 0, 0, 0, 0, 0,\n",
       "       0, 0, 0, 0, 0, 0, 0, 0, 0, 0, 0, 0, 0, 0, 0, 0, 0, 0, 0, 0, 0, 0,\n",
       "       0, 0, 0, 0, 0, 0, 0, 0, 0, 0, 0, 0, 0, 0, 0, 0, 0, 0, 0, 0, 0, 0,\n",
       "       0, 0, 0, 0, 0, 0, 0, 0, 0, 0, 0, 0, 0, 0, 0, 0, 0, 0, 0, 0, 0, 0,\n",
       "       0, 0, 0, 0, 0, 0, 0, 0, 0, 0, 0, 0, 0, 0, 0, 0, 0, 0, 0, 0, 0, 0,\n",
       "       0, 0, 0, 0, 0, 0, 0, 0, 0, 0, 0, 0, 0, 0, 0, 0, 0, 0, 0, 0, 0, 0,\n",
       "       0, 0, 0, 0, 0, 0, 0, 0, 0, 0, 0, 0, 0, 0, 0, 0, 0, 0, 0, 0, 0, 0,\n",
       "       0, 0, 0, 0, 0, 0, 0, 0, 0, 0, 0, 0, 0, 0, 0, 0, 0, 0, 0, 0, 0, 0,\n",
       "       0, 0, 0, 0, 0, 0, 0, 0, 0, 0, 0, 0, 0, 0, 0, 0, 0, 0, 0, 0, 0, 0,\n",
       "       0, 0, 0, 0, 0, 0, 0, 0, 0, 0, 0, 0, 0, 0, 0, 0, 0, 0, 0, 0, 0, 0,\n",
       "       0, 0, 0, 0, 0, 0, 0, 0, 0, 0, 0, 0, 0, 0, 0, 0, 0, 0, 0, 0, 0, 0,\n",
       "       0, 0, 0, 0, 0, 0, 0, 0, 0, 0, 0, 0, 0, 0, 0, 0, 0, 0, 0, 0, 0, 0,\n",
       "       0, 0, 0, 0, 0, 0, 0, 0, 0, 0, 0, 0, 0, 0, 0, 0, 0, 0, 0, 0, 0, 0,\n",
       "       0, 0, 0, 0, 0, 0, 0, 0, 0, 0, 0, 0, 0, 0, 0, 0, 0, 0, 0, 0, 0, 0,\n",
       "       0, 0, 0, 0, 0, 0, 0, 0, 0, 0, 0, 0, 0, 0, 0, 0, 0, 0, 0, 0, 0, 0,\n",
       "       0, 0, 0, 0, 0, 0, 0, 0, 0, 0, 0, 0, 0, 0, 0, 0, 0, 0, 0, 0, 0, 0,\n",
       "       0, 0, 0, 0, 0, 0, 0, 0, 0, 0, 0, 0, 0, 0, 0, 0, 0, 0, 0, 0, 0, 0,\n",
       "       0, 0, 0, 0, 0, 0, 0, 0, 0, 0, 0, 0, 0, 0, 0, 0, 0, 0, 0, 0, 0, 0,\n",
       "       0, 0, 0, 0, 0, 0, 0, 0, 0, 0, 0, 0, 0, 0, 0, 0, 0, 0, 0, 0, 0, 0,\n",
       "       0, 0, 0, 0, 0, 0, 0, 0, 0, 0, 0, 0, 0, 0, 0, 0, 0, 0, 0, 0, 0, 0,\n",
       "       0, 0, 0, 0, 0, 0, 0, 0, 0, 0, 0, 0, 0, 0, 0, 0, 0, 0, 0, 0, 0, 0,\n",
       "       0, 0, 0, 0, 0, 0, 0, 0, 0, 0, 0, 0, 0, 0, 0, 0, 0, 0, 0, 0, 0, 0,\n",
       "       0, 0, 0, 0, 0, 0, 0, 0, 0, 0, 0, 0, 0, 0, 0, 0, 0, 0, 0, 0, 0, 0,\n",
       "       0, 0, 0, 0, 0, 0, 0, 0, 0, 0, 0, 0, 0, 0, 0, 0, 0, 0, 0, 0, 0, 0,\n",
       "       0, 0, 0, 0, 0, 0, 0, 0, 0, 0, 0, 0, 0, 0, 0, 0, 0, 0, 0, 0, 0, 0,\n",
       "       0, 0, 0, 0, 0, 0, 0, 0, 0, 0, 0, 0, 0, 0, 0, 0, 0, 0, 0, 0, 0, 0,\n",
       "       0, 0, 0, 0, 0, 0, 0, 0, 0, 0, 0, 0, 0, 0, 0, 0, 0, 0, 0, 0, 0, 0,\n",
       "       0, 0, 0, 0, 0, 0, 0, 0, 0, 0, 0, 0, 0, 0, 0, 0, 0, 0, 0, 0, 0, 0,\n",
       "       0, 0, 0, 0, 0, 0, 0, 0, 0, 0, 0, 0, 0, 0, 0, 0, 0, 0, 0, 0, 0, 0,\n",
       "       0, 0, 0, 0, 0, 0, 0, 0, 0, 0, 0, 0, 0, 0, 0, 0, 0, 0, 0, 0, 0, 0,\n",
       "       0, 0, 0, 0, 0, 0, 0, 0, 0, 0, 0, 0, 0, 0, 0, 0, 0, 0, 0, 0, 0, 0,\n",
       "       0, 0, 0, 0, 0, 0, 0, 0, 0, 0, 0, 0, 0, 0, 0, 0, 0, 0, 0, 0, 0, 0,\n",
       "       0, 0, 0, 0, 0, 0, 0, 0, 0, 0, 0, 0, 0, 0, 0, 0, 0, 0, 0, 0, 0, 0,\n",
       "       0, 0, 0, 0, 0, 0, 0, 0, 0, 0, 0, 0, 0, 0, 0, 0, 0, 0, 0, 0, 0, 0,\n",
       "       0, 0, 0, 0, 0, 0, 0, 0, 0, 0, 0, 0, 0, 0, 0, 0, 0, 0, 0, 0, 0, 0,\n",
       "       0, 0, 0, 0, 0, 0, 0, 0, 0, 0, 0, 0, 0, 0, 0, 0, 0, 0, 0, 0, 0, 0,\n",
       "       0, 0, 0, 0, 0, 0, 0, 0, 0, 0, 0, 0, 0, 0, 0, 0, 0, 0, 0, 0, 0, 0,\n",
       "       0, 0, 0, 0, 0, 0, 0, 0, 0, 0, 0, 0, 0, 0, 0, 0, 0, 0, 0, 0, 0, 0,\n",
       "       0, 0, 0, 0, 0, 0, 0, 0, 0, 0, 0, 0, 0, 0, 0, 0, 0, 0, 0, 0, 0, 0,\n",
       "       0, 0, 0, 0, 0, 0, 0, 0, 0, 0, 0, 0, 0, 0, 0, 0, 0, 0, 0, 0, 0, 0,\n",
       "       0, 0, 0, 0, 0, 0, 0, 0, 0, 0, 0, 0, 0, 0, 0, 0, 0, 0, 0, 0, 0, 0,\n",
       "       0, 0, 0, 0, 0, 0, 0, 0, 0, 0, 0, 0, 0, 0, 0, 0, 0, 0, 0, 0, 0, 0,\n",
       "       0, 0, 0, 0, 0, 0, 0, 0, 0, 0, 0, 0, 0, 0, 0, 0, 0, 0, 0, 0, 0, 0,\n",
       "       0, 0, 0, 0, 0, 0, 0, 0, 0, 0, 0, 0, 0, 0, 0, 0, 0, 0, 0, 0, 0, 0,\n",
       "       0, 0, 0, 0, 0, 0, 0, 0, 0, 0])"
      ]
     },
     "execution_count": 39,
     "metadata": {},
     "output_type": "execute_result"
    }
   ],
   "source": [
    "pred = clf.predict(features_test)\n",
    "pred"
   ]
  },
  {
   "cell_type": "code",
   "execution_count": 40,
   "metadata": {},
   "outputs": [
    {
     "data": {
      "text/plain": [
       "0.996"
      ]
     },
     "execution_count": 40,
     "metadata": {},
     "output_type": "execute_result"
    }
   ],
   "source": [
    "accuracy = accuracy_score(labels_test, pred)\n",
    "accuracy"
   ]
  },
  {
   "cell_type": "markdown",
   "metadata": {
    "collapsed": true
   },
   "source": [
    "### Extra Tree Classifier################"
   ]
  },
  {
   "cell_type": "code",
   "execution_count": 41,
   "metadata": {},
   "outputs": [],
   "source": [
    "import pandas as pd\n",
    "from sklearn.ensemble import ExtraTreesClassifier"
   ]
  },
  {
   "cell_type": "code",
   "execution_count": 42,
   "metadata": {},
   "outputs": [],
   "source": [
    "clf = ExtraTreesClassifier(n_estimators = 50, n_jobs = -1, min_samples_leaf= 10, verbose = 1)"
   ]
  },
  {
   "cell_type": "code",
   "execution_count": 43,
   "metadata": {},
   "outputs": [
    {
     "name": "stderr",
     "output_type": "stream",
     "text": [
      "[Parallel(n_jobs=-1)]: Done  42 tasks      | elapsed:    0.2s\n",
      "[Parallel(n_jobs=-1)]: Done  50 out of  50 | elapsed:    0.3s finished\n"
     ]
    },
    {
     "data": {
      "text/plain": [
       "ExtraTreesClassifier(bootstrap=False, class_weight=None, criterion='gini',\n",
       "           max_depth=None, max_features='auto', max_leaf_nodes=None,\n",
       "           min_impurity_decrease=0.0, min_impurity_split=None,\n",
       "           min_samples_leaf=10, min_samples_split=2,\n",
       "           min_weight_fraction_leaf=0.0, n_estimators=50, n_jobs=-1,\n",
       "           oob_score=False, random_state=None, verbose=1, warm_start=False)"
      ]
     },
     "execution_count": 43,
     "metadata": {},
     "output_type": "execute_result"
    }
   ],
   "source": [
    "clf.fit(features_train,labels_train)"
   ]
  },
  {
   "cell_type": "code",
   "execution_count": 44,
   "metadata": {},
   "outputs": [
    {
     "name": "stderr",
     "output_type": "stream",
     "text": [
      "[Parallel(n_jobs=4)]: Done  42 tasks      | elapsed:    0.0s\n",
      "[Parallel(n_jobs=4)]: Done  50 out of  50 | elapsed:    0.0s finished\n"
     ]
    },
    {
     "data": {
      "text/plain": [
       "array([0, 0, 0, 0, 0, 0, 0, 0, 0, 0, 0, 0, 0, 0, 0, 0, 0, 0, 0, 0, 0, 0,\n",
       "       0, 0, 0, 0, 0, 0, 0, 0, 0, 0, 0, 0, 0, 0, 0, 0, 0, 0, 0, 0, 0, 0,\n",
       "       0, 0, 0, 0, 0, 0, 0, 0, 0, 0, 0, 0, 0, 0, 0, 0, 0, 0, 0, 0, 0, 0,\n",
       "       0, 0, 0, 0, 0, 0, 0, 0, 0, 0, 0, 0, 0, 0, 0, 0, 0, 0, 0, 0, 0, 0,\n",
       "       0, 0, 0, 0, 0, 0, 0, 0, 0, 0, 0, 0, 0, 0, 0, 0, 0, 0, 0, 0, 0, 0,\n",
       "       0, 0, 0, 0, 0, 0, 0, 0, 0, 0, 0, 0, 0, 0, 0, 0, 0, 0, 0, 0, 0, 0,\n",
       "       0, 0, 0, 0, 0, 0, 0, 0, 0, 0, 0, 0, 0, 0, 0, 0, 0, 0, 0, 0, 0, 0,\n",
       "       0, 0, 0, 0, 0, 0, 0, 0, 0, 0, 0, 0, 0, 0, 0, 0, 0, 0, 0, 0, 0, 0,\n",
       "       0, 0, 0, 0, 0, 0, 0, 0, 0, 0, 0, 0, 0, 0, 0, 0, 0, 0, 0, 0, 0, 0,\n",
       "       0, 0, 0, 0, 0, 0, 0, 0, 0, 0, 0, 0, 0, 0, 0, 0, 0, 0, 0, 0, 0, 0,\n",
       "       0, 0, 0, 0, 0, 0, 0, 0, 0, 0, 0, 0, 0, 0, 0, 0, 0, 0, 0, 0, 0, 0,\n",
       "       0, 0, 0, 0, 0, 0, 0, 0, 0, 0, 0, 0, 0, 0, 0, 0, 0, 0, 0, 0, 0, 0,\n",
       "       0, 0, 0, 0, 0, 0, 0, 0, 0, 0, 0, 0, 0, 0, 0, 0, 0, 0, 0, 0, 0, 0,\n",
       "       0, 0, 0, 0, 0, 0, 0, 0, 0, 0, 0, 0, 0, 0, 0, 0, 0, 0, 0, 0, 0, 0,\n",
       "       0, 0, 0, 0, 0, 0, 0, 0, 0, 0, 0, 0, 0, 0, 0, 0, 0, 0, 0, 0, 0, 0,\n",
       "       0, 0, 0, 0, 0, 0, 0, 0, 0, 0, 0, 0, 0, 0, 0, 0, 0, 0, 0, 0, 0, 0,\n",
       "       0, 0, 0, 0, 0, 0, 0, 0, 0, 0, 0, 0, 0, 0, 0, 0, 0, 0, 0, 0, 0, 0,\n",
       "       0, 0, 0, 0, 0, 0, 0, 0, 0, 0, 0, 0, 0, 0, 0, 0, 0, 0, 0, 0, 0, 0,\n",
       "       0, 0, 0, 0, 0, 0, 0, 0, 0, 0, 0, 0, 0, 0, 0, 0, 0, 0, 0, 0, 0, 0,\n",
       "       0, 0, 0, 0, 0, 0, 0, 0, 0, 0, 0, 0, 0, 0, 0, 0, 0, 0, 0, 0, 0, 0,\n",
       "       0, 0, 0, 0, 0, 0, 0, 0, 0, 0, 0, 0, 0, 0, 0, 0, 0, 0, 0, 0, 0, 0,\n",
       "       0, 0, 0, 0, 0, 0, 0, 0, 0, 0, 0, 0, 0, 0, 0, 0, 0, 0, 0, 0, 0, 0,\n",
       "       0, 0, 0, 0, 0, 0, 0, 0, 0, 0, 0, 0, 0, 0, 0, 0, 0, 0, 0, 0, 0, 0,\n",
       "       0, 0, 0, 0, 0, 0, 0, 0, 0, 0, 0, 0, 0, 0, 0, 0, 0, 0, 0, 0, 0, 0,\n",
       "       0, 0, 0, 0, 0, 0, 0, 0, 0, 0, 0, 0, 0, 0, 0, 0, 0, 0, 0, 0, 0, 0,\n",
       "       0, 0, 0, 0, 0, 0, 0, 0, 0, 0, 0, 0, 0, 0, 0, 0, 0, 0, 0, 0, 0, 0,\n",
       "       0, 0, 0, 0, 0, 0, 0, 0, 0, 0, 0, 0, 0, 0, 0, 0, 0, 0, 0, 0, 0, 0,\n",
       "       0, 0, 0, 0, 0, 0, 0, 0, 0, 0, 0, 0, 0, 0, 0, 0, 0, 0, 0, 0, 0, 0,\n",
       "       0, 0, 0, 0, 0, 0, 0, 0, 0, 0, 0, 0, 0, 0, 0, 0, 0, 0, 0, 0, 0, 0,\n",
       "       0, 0, 0, 0, 0, 0, 0, 0, 0, 0, 0, 0, 0, 0, 0, 0, 0, 0, 0, 0, 0, 0,\n",
       "       0, 0, 0, 0, 0, 0, 0, 0, 0, 0, 0, 0, 0, 0, 0, 0, 0, 0, 0, 0, 0, 0,\n",
       "       0, 0, 0, 0, 0, 0, 0, 0, 0, 0, 0, 0, 0, 0, 0, 0, 0, 0, 0, 0, 0, 0,\n",
       "       0, 0, 0, 0, 0, 0, 0, 0, 0, 0, 0, 0, 0, 0, 0, 0, 0, 0, 0, 0, 0, 0,\n",
       "       0, 0, 0, 0, 0, 0, 0, 0, 0, 0, 0, 0, 0, 0, 0, 0, 0, 0, 0, 0, 0, 0,\n",
       "       0, 0, 0, 0, 0, 0, 0, 0, 0, 0, 0, 0, 0, 0, 0, 0, 0, 0, 0, 0, 0, 0,\n",
       "       0, 0, 0, 0, 0, 0, 0, 0, 0, 0, 0, 0, 0, 0, 0, 0, 0, 0, 0, 0, 0, 0,\n",
       "       0, 0, 0, 0, 0, 0, 0, 0, 0, 0, 0, 0, 0, 0, 0, 0, 0, 0, 0, 0, 0, 0,\n",
       "       0, 0, 0, 0, 0, 0, 0, 0, 0, 0, 0, 0, 0, 0, 0, 0, 0, 0, 0, 0, 0, 0,\n",
       "       0, 0, 0, 0, 0, 0, 0, 0, 0, 0, 0, 0, 0, 0, 0, 0, 0, 0, 0, 0, 0, 0,\n",
       "       0, 0, 0, 0, 0, 0, 0, 0, 0, 0, 0, 0, 0, 0, 0, 0, 0, 0, 0, 0, 0, 0,\n",
       "       0, 0, 0, 0, 0, 0, 0, 0, 0, 0, 0, 0, 0, 0, 0, 0, 0, 0, 0, 0, 0, 0,\n",
       "       0, 0, 0, 0, 0, 0, 0, 0, 0, 0, 0, 0, 0, 0, 0, 0, 0, 0, 0, 0, 0, 0,\n",
       "       0, 0, 0, 0, 0, 0, 0, 0, 0, 0, 0, 0, 0, 0, 0, 0, 0, 0, 0, 0, 0, 0,\n",
       "       0, 0, 0, 0, 0, 0, 0, 0, 0, 0, 0, 0, 0, 0, 0, 0, 0, 0, 0, 0, 0, 0,\n",
       "       0, 0, 0, 0, 0, 0, 0, 0, 0, 0, 0, 0, 0, 0, 0, 0, 0, 0, 0, 0, 0, 0,\n",
       "       0, 0, 0, 0, 0, 0, 0, 0, 0, 0])"
      ]
     },
     "execution_count": 44,
     "metadata": {},
     "output_type": "execute_result"
    }
   ],
   "source": [
    "pred = clf.predict(features_test)\n",
    "pred"
   ]
  },
  {
   "cell_type": "code",
   "execution_count": 45,
   "metadata": {},
   "outputs": [
    {
     "data": {
      "text/plain": [
       "0.996"
      ]
     },
     "execution_count": 45,
     "metadata": {},
     "output_type": "execute_result"
    }
   ],
   "source": [
    "accuracy = accuracy_score(labels_test, pred)\n",
    "accuracy"
   ]
  },
  {
   "cell_type": "markdown",
   "metadata": {
    "collapsed": true
   },
   "source": [
    "## xgboost with grid search ###########"
   ]
  },
  {
   "cell_type": "code",
   "execution_count": 46,
   "metadata": {},
   "outputs": [],
   "source": [
    "import xgboost as xgb\n",
    "from sklearn.grid_search import GridSearchCV"
   ]
  },
  {
   "cell_type": "code",
   "execution_count": 47,
   "metadata": {},
   "outputs": [],
   "source": [
    "# Find the best values of 'max_depth' and 'min_child_weight'\n",
    "\n",
    "cv_params = {'max_depth': [3,5,7], 'min_child_weight': [1,3,5]}\n",
    "\n",
    "parameters = {'nthread':[4],                    \n",
    "              'objective':['binary:logistic'],\n",
    "              'learning_rate': [0.05], \n",
    "              'max_depth': [7],\n",
    "              'min_child_weight': [11],\n",
    "              'silent': [1],\n",
    "              'subsample': [0.8],\n",
    "              'colsample_bytree': [0.7],\n",
    "              'n_estimators': [1000], \n",
    "              'missing':[-999],\n",
    "              'seed': [1337]}\n",
    "\n",
    "xgb_model = xgb.XGBClassifier()\n",
    "\n",
    "optimized_GBM = GridSearchCV(xgb.XGBClassifier(parameters), \n",
    "                             cv_params, \n",
    "                             scoring = 'accuracy', \n",
    "                             cv = 5, \n",
    "                             n_jobs = 4,\n",
    "                             verbose = 5\n",
    "                            ) "
   ]
  },
  {
   "cell_type": "code",
   "execution_count": 48,
   "metadata": {
    "scrolled": true
   },
   "outputs": [
    {
     "name": "stdout",
     "output_type": "stream",
     "text": [
      "Fitting 5 folds for each of 9 candidates, totalling 45 fits\n",
      "[CV] max_depth=3, min_child_weight=1 .................................\n",
      "[CV] max_depth=3, min_child_weight=1 .................................\n",
      "[CV] max_depth=3, min_child_weight=1 .................................\n",
      "[CV] max_depth=3, min_child_weight=1 .................................\n",
      "[CV] ........ max_depth=3, min_child_weight=1, score=0.994444 -  22.4s\n",
      "[CV] max_depth=3, min_child_weight=1 .................................\n",
      "[CV] ........ max_depth=3, min_child_weight=1, score=0.995003 -  22.7s\n",
      "[CV] max_depth=3, min_child_weight=3 .................................\n",
      "[CV] ........ max_depth=3, min_child_weight=1, score=0.993889 -  22.6s\n",
      "[CV] max_depth=3, min_child_weight=3 .................................\n",
      "[CV] ........ max_depth=3, min_child_weight=1, score=0.994444 -  22.9s\n",
      "[CV] max_depth=3, min_child_weight=3 .................................\n",
      "[CV] ........ max_depth=3, min_child_weight=3, score=0.994444 -  23.6s\n",
      "[CV] max_depth=3, min_child_weight=3 .................................\n",
      "[CV] ........ max_depth=3, min_child_weight=3, score=0.995003 -  23.8s\n",
      "[CV] max_depth=3, min_child_weight=3 .................................\n",
      "[CV] ........ max_depth=3, min_child_weight=3, score=0.994444 -  24.3s\n",
      "[CV] max_depth=3, min_child_weight=5 .................................\n",
      "[CV] ........ max_depth=3, min_child_weight=1, score=0.993885 -  26.4s\n",
      "[CV] max_depth=3, min_child_weight=5 .................................\n",
      "[CV] ........ max_depth=3, min_child_weight=5, score=0.994448 -  24.6s\n",
      "[CV] max_depth=3, min_child_weight=5 .................................\n",
      "[CV] ........ max_depth=3, min_child_weight=3, score=0.994444 -  25.9s\n",
      "[CV] max_depth=3, min_child_weight=5 .................................\n"
     ]
    },
    {
     "name": "stderr",
     "output_type": "stream",
     "text": [
      "[Parallel(n_jobs=4)]: Done  10 tasks      | elapsed:  1.2min\n"
     ]
    },
    {
     "name": "stdout",
     "output_type": "stream",
     "text": [
      "[CV] ........ max_depth=3, min_child_weight=3, score=0.994441 -  26.1s\n",
      "[CV] max_depth=3, min_child_weight=5 .................................\n",
      "[CV] ........ max_depth=3, min_child_weight=5, score=0.994444 -  24.1s\n",
      "[CV] max_depth=5, min_child_weight=1 .................................\n",
      "[CV] ........ max_depth=3, min_child_weight=5, score=0.994444 -  23.9s\n",
      "[CV] max_depth=5, min_child_weight=1 .................................\n",
      "[CV] ........ max_depth=3, min_child_weight=5, score=0.994444 -  23.8s\n",
      "[CV] max_depth=5, min_child_weight=1 .................................\n",
      "[CV] ........ max_depth=3, min_child_weight=5, score=0.994441 -  23.9s\n",
      "[CV] max_depth=5, min_child_weight=1 .................................\n",
      "[CV] ........ max_depth=5, min_child_weight=1, score=0.993337 -  39.1s\n",
      "[CV] max_depth=5, min_child_weight=1 .................................\n",
      "[CV] ........ max_depth=5, min_child_weight=1, score=0.993889 -  35.4s\n",
      "[CV] max_depth=5, min_child_weight=3 .................................\n",
      "[CV] ........ max_depth=5, min_child_weight=1, score=0.994444 -  36.4s\n",
      "[CV] max_depth=5, min_child_weight=3 .................................\n",
      "[CV] ........ max_depth=5, min_child_weight=1, score=0.991667 -  37.3s\n",
      "[CV] max_depth=5, min_child_weight=3 .................................\n",
      "[CV] ........ max_depth=5, min_child_weight=1, score=0.993330 -  38.0s\n",
      "[CV] max_depth=5, min_child_weight=3 .................................\n",
      "[CV] ........ max_depth=5, min_child_weight=3, score=0.994448 -  33.7s\n",
      "[CV] max_depth=5, min_child_weight=3 .................................\n",
      "[CV] ........ max_depth=5, min_child_weight=3, score=0.994444 -  32.9s\n",
      "[CV] max_depth=5, min_child_weight=5 .................................\n",
      "[CV] ........ max_depth=5, min_child_weight=3, score=0.994444 -  32.7s\n",
      "[CV] max_depth=5, min_child_weight=5 .................................\n",
      "[CV] ........ max_depth=5, min_child_weight=3, score=0.993333 -  30.9s\n",
      "[CV] max_depth=5, min_child_weight=5 .................................\n",
      "[CV] ........ max_depth=5, min_child_weight=5, score=0.995003 -  28.1s\n",
      "[CV] max_depth=5, min_child_weight=5 .................................\n",
      "[CV] ........ max_depth=5, min_child_weight=5, score=0.994444 -  27.8s\n",
      "[CV] max_depth=5, min_child_weight=5 .................................\n",
      "[CV] ........ max_depth=5, min_child_weight=3, score=0.994441 -  30.5s\n",
      "[CV] max_depth=7, min_child_weight=1 .................................\n",
      "[CV] ........ max_depth=5, min_child_weight=5, score=0.994444 -  29.5s\n",
      "[CV] max_depth=7, min_child_weight=1 .................................\n",
      "[CV] ........ max_depth=5, min_child_weight=5, score=0.994444 -  30.4s\n",
      "[CV] max_depth=7, min_child_weight=1 .................................\n",
      "[CV] ........ max_depth=5, min_child_weight=5, score=0.994441 -  30.3s\n",
      "[CV] max_depth=7, min_child_weight=1 .................................\n",
      "[CV] ........ max_depth=7, min_child_weight=1, score=0.993337 -  50.4s\n",
      "[CV] max_depth=7, min_child_weight=1 .................................\n",
      "[CV] ........ max_depth=7, min_child_weight=1, score=0.993889 -  49.6s\n",
      "[CV] max_depth=7, min_child_weight=3 .................................\n",
      "[CV] ........ max_depth=7, min_child_weight=1, score=0.994444 -  52.4s\n",
      "[CV] max_depth=7, min_child_weight=3 .................................\n",
      "[CV] ........ max_depth=7, min_child_weight=1, score=0.991111 -  54.5s\n",
      "[CV] max_depth=7, min_child_weight=3 .................................\n",
      "[CV] ........ max_depth=7, min_child_weight=1, score=0.993330 -  50.1s\n",
      "[CV] max_depth=7, min_child_weight=3 .................................\n",
      "[CV] ........ max_depth=7, min_child_weight=3, score=0.993892 -  43.4s\n",
      "[CV] max_depth=7, min_child_weight=3 .................................\n",
      "[CV] ........ max_depth=7, min_child_weight=3, score=0.994444 -  41.2s\n",
      "[CV] max_depth=7, min_child_weight=5 .................................\n",
      "[CV] ........ max_depth=7, min_child_weight=3, score=0.994444 -  40.7s\n",
      "[CV] max_depth=7, min_child_weight=5 .................................\n",
      "[CV] ........ max_depth=7, min_child_weight=3, score=0.993333 -  41.6s\n",
      "[CV] max_depth=7, min_child_weight=5 .................................\n",
      "[CV] ........ max_depth=7, min_child_weight=3, score=0.993885 -  40.5s\n",
      "[CV] max_depth=7, min_child_weight=5 .................................\n",
      "[CV] ........ max_depth=7, min_child_weight=5, score=0.995003 -  36.4s\n",
      "[CV] max_depth=7, min_child_weight=5 .................................\n",
      "[CV] ........ max_depth=7, min_child_weight=5, score=0.994444 -  37.6s\n",
      "[CV] ........ max_depth=7, min_child_weight=5, score=0.994444 -  38.4s\n",
      "[CV] ........ max_depth=7, min_child_weight=5, score=0.994444 -  35.7s\n",
      "[CV] ........ max_depth=7, min_child_weight=5, score=0.994441 -  30.5s\n"
     ]
    },
    {
     "name": "stderr",
     "output_type": "stream",
     "text": [
      "[Parallel(n_jobs=4)]: Done  45 out of  45 | elapsed:  6.4min finished\n"
     ]
    },
    {
     "data": {
      "text/plain": [
       "GridSearchCV(cv=5, error_score='raise',\n",
       "       estimator=XGBClassifier(base_score=0.5, booster='gbtree', colsample_bylevel=1,\n",
       "       colsample_bytree=1, gamma=0, learning_rate=0.1, max_delta_step=0,\n",
       "       max_depth={'nthread': [4], 'objective': ['binary:logistic'], 'learning_rate': [0.05], 'max_depth': [7], 'min_child_weight': [11], 'silent': [...0,\n",
       "       reg_alpha=0, reg_lambda=1, scale_pos_weight=1, seed=None,\n",
       "       silent=True, subsample=1),\n",
       "       fit_params={}, iid=True, n_jobs=4,\n",
       "       param_grid={'max_depth': [3, 5, 7], 'min_child_weight': [1, 3, 5]},\n",
       "       pre_dispatch='2*n_jobs', refit=True, scoring='accuracy', verbose=5)"
      ]
     },
     "execution_count": 48,
     "metadata": {},
     "output_type": "execute_result"
    }
   ],
   "source": [
    "import warnings\n",
    "\n",
    "warnings.filterwarnings(action='ignore', category=DeprecationWarning)\n",
    "\n",
    "optimized_GBM.fit(features_train, labels_train)"
   ]
  },
  {
   "cell_type": "code",
   "execution_count": 49,
   "metadata": {
    "scrolled": false
   },
   "outputs": [
    {
     "data": {
      "text/plain": [
       "[mean: 0.99433, std: 0.00042, params: {'max_depth': 3, 'min_child_weight': 1},\n",
       " mean: 0.99456, std: 0.00022, params: {'max_depth': 3, 'min_child_weight': 3},\n",
       " mean: 0.99444, std: 0.00000, params: {'max_depth': 3, 'min_child_weight': 5},\n",
       " mean: 0.99333, std: 0.00093, params: {'max_depth': 5, 'min_child_weight': 1},\n",
       " mean: 0.99422, std: 0.00044, params: {'max_depth': 5, 'min_child_weight': 3},\n",
       " mean: 0.99456, std: 0.00022, params: {'max_depth': 5, 'min_child_weight': 5},\n",
       " mean: 0.99322, std: 0.00113, params: {'max_depth': 7, 'min_child_weight': 1},\n",
       " mean: 0.99400, std: 0.00042, params: {'max_depth': 7, 'min_child_weight': 3},\n",
       " mean: 0.99456, std: 0.00022, params: {'max_depth': 7, 'min_child_weight': 5}]"
      ]
     },
     "execution_count": 49,
     "metadata": {},
     "output_type": "execute_result"
    }
   ],
   "source": [
    "optimized_GBM.grid_scores_"
   ]
  },
  {
   "cell_type": "markdown",
   "metadata": {},
   "source": [
    "##### Exploring the best values of parameters "
   ]
  },
  {
   "cell_type": "code",
   "execution_count": 57,
   "metadata": {},
   "outputs": [],
   "source": [
    "# Find the best values of 'learning_rate' and 'subsample'\n",
    "\n",
    "cv_params = {'max_depth': [7], \n",
    "             'min_child_weight': [5], \n",
    "             'learning_rate': [0.1, 0.01], \n",
    "             'subsample': [0.7, 0.8, 0.9]\n",
    "            }\n",
    "\n",
    "parameters = {'nthread': [4],                    \n",
    "              'objective':['binary:logistic'],\n",
    "              'learning_rate': [0.05], \n",
    "              'max_depth': [6],\n",
    "              'min_child_weight': [11],\n",
    "              'silent': [1],\n",
    "              'subsample': [0.8],\n",
    "              'colsample_bytree': [0.7],\n",
    "              'n_estimators': [1000], \n",
    "              'missing':[-999],\n",
    "              'random_state': [1337]\n",
    "             }\n",
    "\n",
    "xgb_model = xgb.XGBClassifier()\n",
    "\n",
    "optimized_GBM = GridSearchCV(xgb.XGBClassifier(parameters), \n",
    "                             cv_params, \n",
    "                             scoring = 'accuracy', \n",
    "                             cv = 5, \n",
    "                             n_jobs = 4,\n",
    "                             verbose = 5\n",
    "                            ) "
   ]
  },
  {
   "cell_type": "code",
   "execution_count": 51,
   "metadata": {
    "scrolled": false
   },
   "outputs": [
    {
     "name": "stdout",
     "output_type": "stream",
     "text": [
      "Fitting 5 folds for each of 6 candidates, totalling 30 fits\n",
      "[CV] learning_rate=0.1, max_depth=7, min_child_weight=5, subsample=0.7 \n",
      "[CV] learning_rate=0.1, max_depth=7, min_child_weight=5, subsample=0.7 \n",
      "[CV] learning_rate=0.1, max_depth=7, min_child_weight=5, subsample=0.7 \n",
      "[CV] learning_rate=0.1, max_depth=7, min_child_weight=5, subsample=0.7 \n",
      "[CV]  learning_rate=0.1, max_depth=7, min_child_weight=5, subsample=0.7, score=0.994448 -  22.9s\n",
      "[CV] learning_rate=0.1, max_depth=7, min_child_weight=5, subsample=0.7 \n",
      "[CV]  learning_rate=0.1, max_depth=7, min_child_weight=5, subsample=0.7, score=0.994444 -  23.5s\n",
      "[CV] learning_rate=0.1, max_depth=7, min_child_weight=5, subsample=0.8 \n",
      "[CV]  learning_rate=0.1, max_depth=7, min_child_weight=5, subsample=0.7, score=0.994444 -  24.0s\n",
      "[CV] learning_rate=0.1, max_depth=7, min_child_weight=5, subsample=0.8 \n",
      "[CV]  learning_rate=0.1, max_depth=7, min_child_weight=5, subsample=0.7, score=0.994444 -  24.3s\n",
      "[CV] learning_rate=0.1, max_depth=7, min_child_weight=5, subsample=0.8 \n",
      "[CV]  learning_rate=0.1, max_depth=7, min_child_weight=5, subsample=0.7, score=0.994441 -  23.5s\n",
      "[CV] learning_rate=0.1, max_depth=7, min_child_weight=5, subsample=0.8 \n",
      "[CV]  learning_rate=0.1, max_depth=7, min_child_weight=5, subsample=0.8, score=0.995003 -  26.6s\n",
      "[CV] learning_rate=0.1, max_depth=7, min_child_weight=5, subsample=0.8 \n",
      "[CV]  learning_rate=0.1, max_depth=7, min_child_weight=5, subsample=0.8, score=0.994444 -  26.6s\n",
      "[CV] learning_rate=0.1, max_depth=7, min_child_weight=5, subsample=0.9 \n",
      "[CV]  learning_rate=0.1, max_depth=7, min_child_weight=5, subsample=0.8, score=0.994444 -  26.6s\n",
      "[CV] learning_rate=0.1, max_depth=7, min_child_weight=5, subsample=0.9 \n",
      "[CV]  learning_rate=0.1, max_depth=7, min_child_weight=5, subsample=0.8, score=0.994444 -  26.9s\n",
      "[CV] learning_rate=0.1, max_depth=7, min_child_weight=5, subsample=0.9 \n",
      "[CV]  learning_rate=0.1, max_depth=7, min_child_weight=5, subsample=0.8, score=0.994441 -  26.2s\n",
      "[CV] learning_rate=0.1, max_depth=7, min_child_weight=5, subsample=0.9 \n"
     ]
    },
    {
     "name": "stderr",
     "output_type": "stream",
     "text": [
      "[Parallel(n_jobs=4)]: Done  10 tasks      | elapsed:  1.3min\n"
     ]
    },
    {
     "name": "stdout",
     "output_type": "stream",
     "text": [
      "[CV]  learning_rate=0.1, max_depth=7, min_child_weight=5, subsample=0.9, score=0.995003 -  29.3s\n",
      "[CV] learning_rate=0.1, max_depth=7, min_child_weight=5, subsample=0.9 \n",
      "[CV]  learning_rate=0.1, max_depth=7, min_child_weight=5, subsample=0.9, score=0.994444 -  30.2s\n",
      "[CV] learning_rate=0.01, max_depth=7, min_child_weight=5, subsample=0.7 \n",
      "[CV]  learning_rate=0.01, max_depth=7, min_child_weight=5, subsample=0.7, score=0.994448 -   7.9s\n",
      "[CV] learning_rate=0.01, max_depth=7, min_child_weight=5, subsample=0.7 \n",
      "[CV]  learning_rate=0.01, max_depth=7, min_child_weight=5, subsample=0.7, score=0.994444 -   7.7s\n",
      "[CV] learning_rate=0.01, max_depth=7, min_child_weight=5, subsample=0.7 \n",
      "[CV]  learning_rate=0.1, max_depth=7, min_child_weight=5, subsample=0.9, score=0.994444 -  29.1s\n",
      "[CV] learning_rate=0.01, max_depth=7, min_child_weight=5, subsample=0.7 \n",
      "[CV]  learning_rate=0.01, max_depth=7, min_child_weight=5, subsample=0.7, score=0.994444 -   8.3s\n",
      "[CV] learning_rate=0.01, max_depth=7, min_child_weight=5, subsample=0.7 \n",
      "[CV]  learning_rate=0.1, max_depth=7, min_child_weight=5, subsample=0.9, score=0.994444 -  28.8s\n",
      "[CV] learning_rate=0.01, max_depth=7, min_child_weight=5, subsample=0.8 \n",
      "[CV]  learning_rate=0.1, max_depth=7, min_child_weight=5, subsample=0.9, score=0.994441 -  27.9s\n",
      "[CV] learning_rate=0.01, max_depth=7, min_child_weight=5, subsample=0.8 \n",
      "[CV]  learning_rate=0.01, max_depth=7, min_child_weight=5, subsample=0.7, score=0.994444 -   8.2s\n",
      "[CV] learning_rate=0.01, max_depth=7, min_child_weight=5, subsample=0.8 \n",
      "[CV]  learning_rate=0.01, max_depth=7, min_child_weight=5, subsample=0.8, score=0.994448 -   8.7s\n",
      "[CV] learning_rate=0.01, max_depth=7, min_child_weight=5, subsample=0.8 \n",
      "[CV]  learning_rate=0.01, max_depth=7, min_child_weight=5, subsample=0.7, score=0.994997 -   9.8s\n",
      "[CV] learning_rate=0.01, max_depth=7, min_child_weight=5, subsample=0.8 \n",
      "[CV]  learning_rate=0.01, max_depth=7, min_child_weight=5, subsample=0.8, score=0.994444 -   7.8s\n",
      "[CV] learning_rate=0.01, max_depth=7, min_child_weight=5, subsample=0.9 \n",
      "[CV]  learning_rate=0.01, max_depth=7, min_child_weight=5, subsample=0.8, score=0.994444 -   9.3s\n",
      "[CV] learning_rate=0.01, max_depth=7, min_child_weight=5, subsample=0.9 \n",
      "[CV]  learning_rate=0.01, max_depth=7, min_child_weight=5, subsample=0.8, score=0.994444 -   8.5s\n",
      "[CV] learning_rate=0.01, max_depth=7, min_child_weight=5, subsample=0.9 \n",
      "[CV]  learning_rate=0.01, max_depth=7, min_child_weight=5, subsample=0.9, score=0.994448 -   8.7s\n",
      "[CV] learning_rate=0.01, max_depth=7, min_child_weight=5, subsample=0.9 \n",
      "[CV]  learning_rate=0.01, max_depth=7, min_child_weight=5, subsample=0.8, score=0.994997 -  10.4s\n",
      "[CV] learning_rate=0.01, max_depth=7, min_child_weight=5, subsample=0.9 \n",
      "[CV]  learning_rate=0.01, max_depth=7, min_child_weight=5, subsample=0.9, score=0.994444 -   8.2s\n",
      "[CV]  learning_rate=0.01, max_depth=7, min_child_weight=5, subsample=0.9, score=0.994444 -  10.5s\n",
      "[CV]  learning_rate=0.01, max_depth=7, min_child_weight=5, subsample=0.9, score=0.994444 -   8.8s\n",
      "[CV]  learning_rate=0.01, max_depth=7, min_child_weight=5, subsample=0.9, score=0.994997 -   9.6s\n"
     ]
    },
    {
     "name": "stderr",
     "output_type": "stream",
     "text": [
      "[Parallel(n_jobs=4)]: Done  30 out of  30 | elapsed:  2.3min remaining:    0.0s\n",
      "[Parallel(n_jobs=4)]: Done  30 out of  30 | elapsed:  2.3min finished\n"
     ]
    },
    {
     "data": {
      "text/plain": [
       "GridSearchCV(cv=5, error_score='raise',\n",
       "       estimator=XGBClassifier(base_score=0.5, booster='gbtree', colsample_bylevel=1,\n",
       "       colsample_bytree=1, gamma=0, learning_rate=0.1, max_delta_step=0,\n",
       "       max_depth={'nthread': [4], 'objective': ['binary:logistic'], 'learning_rate': [0.05], 'max_depth': [6], 'min_child_weight': [11], 'silent': [...0,\n",
       "       reg_alpha=0, reg_lambda=1, scale_pos_weight=1, seed=None,\n",
       "       silent=True, subsample=1),\n",
       "       fit_params={}, iid=True, n_jobs=4,\n",
       "       param_grid={'max_depth': [7], 'min_child_weight': [5], 'learning_rate': [0.1, 0.01], 'subsample': [0.7, 0.8, 0.9]},\n",
       "       pre_dispatch='2*n_jobs', refit=True, scoring='accuracy', verbose=5)"
      ]
     },
     "execution_count": 51,
     "metadata": {},
     "output_type": "execute_result"
    }
   ],
   "source": [
    "optimized_GBM.fit(features_train, labels_train)"
   ]
  },
  {
   "cell_type": "code",
   "execution_count": 52,
   "metadata": {
    "scrolled": true
   },
   "outputs": [
    {
     "data": {
      "text/plain": [
       "[mean: 0.99444, std: 0.00000, params: {'learning_rate': 0.1, 'max_depth': 7, 'min_child_weight': 5, 'subsample': 0.7},\n",
       " mean: 0.99456, std: 0.00022, params: {'learning_rate': 0.1, 'max_depth': 7, 'min_child_weight': 5, 'subsample': 0.8},\n",
       " mean: 0.99456, std: 0.00022, params: {'learning_rate': 0.1, 'max_depth': 7, 'min_child_weight': 5, 'subsample': 0.9},\n",
       " mean: 0.99456, std: 0.00022, params: {'learning_rate': 0.01, 'max_depth': 7, 'min_child_weight': 5, 'subsample': 0.7},\n",
       " mean: 0.99456, std: 0.00022, params: {'learning_rate': 0.01, 'max_depth': 7, 'min_child_weight': 5, 'subsample': 0.8},\n",
       " mean: 0.99456, std: 0.00022, params: {'learning_rate': 0.01, 'max_depth': 7, 'min_child_weight': 5, 'subsample': 0.9}]"
      ]
     },
     "execution_count": 52,
     "metadata": {},
     "output_type": "execute_result"
    }
   ],
   "source": [
    "optimized_GBM.grid_scores_"
   ]
  },
  {
   "cell_type": "code",
   "execution_count": 53,
   "metadata": {},
   "outputs": [],
   "source": [
    "xgdmat = xgb.DMatrix(features_train, labels_train) # Create our DMatrix to make XGBoost more efficient"
   ]
  },
  {
   "cell_type": "code",
   "execution_count": 54,
   "metadata": {},
   "outputs": [],
   "source": [
    "params = {'eta': 0.1, 'random_state': 0, 'subsample': 0.8, 'colsample_bytree': 0.8, \n",
    "             'objective': 'binary:logistic', 'max_depth':3, 'min_child_weight':1} \n",
    "# Grid Search CV optimized settings\n",
    "\n",
    "cv_xgb = xgb.cv(params = params, dtrain = xgdmat, num_boost_round = 3000, nfold = 5,\n",
    "                metrics = ['error'],           # Make sure you enter metrics inside a list or you may encounter issues!\n",
    "                early_stopping_rounds = 100)   # Look for early stopping that minimizes error"
   ]
  },
  {
   "cell_type": "code",
   "execution_count": 55,
   "metadata": {},
   "outputs": [
    {
     "data": {
      "text/html": [
       "<div>\n",
       "<style scoped>\n",
       "    .dataframe tbody tr th:only-of-type {\n",
       "        vertical-align: middle;\n",
       "    }\n",
       "\n",
       "    .dataframe tbody tr th {\n",
       "        vertical-align: top;\n",
       "    }\n",
       "\n",
       "    .dataframe thead th {\n",
       "        text-align: right;\n",
       "    }\n",
       "</style>\n",
       "<table border=\"1\" class=\"dataframe\">\n",
       "  <thead>\n",
       "    <tr style=\"text-align: right;\">\n",
       "      <th></th>\n",
       "      <th>test-error-mean</th>\n",
       "      <th>test-error-std</th>\n",
       "      <th>train-error-mean</th>\n",
       "      <th>train-error-std</th>\n",
       "    </tr>\n",
       "  </thead>\n",
       "  <tbody>\n",
       "    <tr>\n",
       "      <th>0</th>\n",
       "      <td>0.005445</td>\n",
       "      <td>0.001238</td>\n",
       "      <td>0.005445</td>\n",
       "      <td>0.000309</td>\n",
       "    </tr>\n",
       "  </tbody>\n",
       "</table>\n",
       "</div>"
      ],
      "text/plain": [
       "   test-error-mean  test-error-std  train-error-mean  train-error-std\n",
       "0         0.005445        0.001238          0.005445         0.000309"
      ]
     },
     "execution_count": 55,
     "metadata": {},
     "output_type": "execute_result"
    }
   ],
   "source": [
    "cv_xgb.tail(5)"
   ]
  },
  {
   "cell_type": "markdown",
   "metadata": {
    "collapsed": true
   },
   "source": [
    "Now that we have our best settings, let’s create this as an XGBoost object model that we can reference later."
   ]
  },
  {
   "cell_type": "code",
   "execution_count": 58,
   "metadata": {},
   "outputs": [],
   "source": [
    "best_params = {'eta': 0.1, \n",
    "               'random_state': 0, \n",
    "               'subsample': 0.9, \n",
    "               'colsample_bytree': 0.8, \n",
    "               'objective': 'binary:logistic', \n",
    "               'max_depth': 7, \n",
    "               'min_child_weight':5\n",
    "              } \n",
    "\n",
    "final_gb = xgb.train(best_params, xgdmat, num_boost_round = 432)"
   ]
  },
  {
   "cell_type": "code",
   "execution_count": 61,
   "metadata": {},
   "outputs": [
    {
     "data": {
      "text/plain": [
       "array([2.5035692e-03, 8.5630280e-05, 9.2141535e-03, ..., 1.3326209e-04,\n",
       "       2.9597999e-04, 1.8479968e-03], dtype=float32)"
      ]
     },
     "execution_count": 61,
     "metadata": {},
     "output_type": "execute_result"
    }
   ],
   "source": [
    "final_gb.predict(xgdmat)"
   ]
  },
  {
   "cell_type": "code",
   "execution_count": 62,
   "metadata": {},
   "outputs": [],
   "source": [
    "%matplotlib inline\n",
    "import seaborn as sns\n",
    "sns.set(font_scale = 1.5)"
   ]
  },
  {
   "cell_type": "markdown",
   "metadata": {},
   "source": [
    "Analyzing Performance on Test Data\n",
    "\n",
    "The model has now been tuned using cross-validation grid search through the sklearn API and early stopping through the built-in XGBoost API. Now, we can see how it finally performs on the test set. Does it match our CV performance? First, create another DMatrix (this time for the test data)."
   ]
  },
  {
   "cell_type": "code",
   "execution_count": 66,
   "metadata": {},
   "outputs": [],
   "source": [
    "testdmat = xgb.DMatrix(features_test, labels_test)"
   ]
  },
  {
   "cell_type": "code",
   "execution_count": 67,
   "metadata": {
    "scrolled": true
   },
   "outputs": [
    {
     "data": {
      "text/plain": [
       "array([5.32376766e-03, 2.59926601e-04, 2.15576423e-04, 2.27064538e-05,\n",
       "       5.31940022e-05, 8.26115429e-05, 1.32427696e-04, 2.16945584e-04,\n",
       "       2.38324152e-04, 3.42542116e-05, 1.22178899e-04, 1.38507559e-04,\n",
       "       3.49947310e-04, 1.15617993e-03, 8.94222292e-04, 1.30898416e-05,\n",
       "       1.61435557e-04, 5.32376766e-03, 2.10244780e-05, 3.21217522e-04,\n",
       "       1.57114072e-03, 2.59167919e-05, 2.96985963e-04, 1.43660815e-04,\n",
       "       1.09937240e-03, 1.09267006e-04, 6.52321323e-05, 6.53717507e-05,\n",
       "       4.59718940e-05, 3.31310206e-04, 2.45478121e-03, 3.93428170e-04,\n",
       "       1.02856115e-03, 4.68228245e-03, 1.06104097e-04, 7.66891462e-05,\n",
       "       9.94330840e-05, 6.31879084e-04, 2.11622086e-04, 1.28609172e-04,\n",
       "       1.10779001e-04, 1.80154678e-03, 2.00286228e-03, 5.32376766e-03,\n",
       "       1.32281290e-04, 2.86765484e-04, 2.09269393e-03, 1.81548923e-04,\n",
       "       6.92603767e-01, 5.72598306e-03, 1.29658278e-04, 2.54044950e-04,\n",
       "       4.16901102e-03, 5.59615437e-04, 2.14734755e-05, 8.04985233e-04,\n",
       "       6.79606455e-05, 1.19140881e-04, 1.26296105e-02, 2.08819562e-04,\n",
       "       4.11709509e-04, 2.90936470e-04, 3.76938478e-05, 6.16182690e-04,\n",
       "       1.18743912e-04, 2.50035577e-04, 1.21264439e-03, 5.40018664e-05,\n",
       "       6.87262393e-04, 5.35116822e-04, 1.68627506e-04, 3.74443154e-03,\n",
       "       3.53200274e-04, 1.24078954e-03, 1.09704240e-04, 1.48663021e-04,\n",
       "       9.31822788e-03, 1.21400121e-03, 2.99442443e-04, 6.03973931e-05,\n",
       "       2.95882001e-05, 7.62423617e-04, 2.29463156e-04, 4.74188681e-04,\n",
       "       1.45907223e-03, 1.60043870e-04, 1.58471451e-03, 4.41196887e-03,\n",
       "       2.84094503e-03, 8.01028043e-04, 3.58924415e-04, 3.19499843e-04,\n",
       "       1.14912335e-04, 3.36618250e-04, 2.36932724e-03, 5.47133131e-05,\n",
       "       7.09670421e-04, 8.33532074e-04, 4.09950095e-04, 1.77247915e-03,\n",
       "       1.71551816e-02, 3.21970911e-05, 4.01760131e-04, 2.29513927e-04,\n",
       "       4.38417337e-04, 3.44705550e-05, 5.52843208e-04, 2.89197243e-03,\n",
       "       3.77962249e-04, 4.04851657e-04, 5.85134898e-04, 2.00254796e-03,\n",
       "       1.25800289e-04, 1.06728997e-03, 1.54342764e-04, 6.84049883e-05,\n",
       "       4.29041538e-04, 1.26040645e-03, 1.43890458e-04, 9.82948259e-05,\n",
       "       8.91148753e-04, 7.52413645e-04, 2.78015330e-04, 7.95096785e-05,\n",
       "       3.72374547e-04, 2.74636055e-04, 1.73893241e-05, 4.54561319e-03,\n",
       "       5.85782473e-05, 2.70108576e-04, 1.71735429e-03, 1.87503116e-03,\n",
       "       3.64979962e-03, 2.45755182e-05, 8.53168822e-05, 6.97744254e-05,\n",
       "       6.07791881e-05, 3.07103241e-04, 3.06189622e-06, 4.04523365e-04,\n",
       "       1.04506416e-05, 2.08428519e-05, 5.55248326e-03, 7.05316837e-04,\n",
       "       7.20500422e-04, 2.15206368e-04, 6.93196722e-04, 6.36552053e-04,\n",
       "       4.61168347e-05, 1.11556452e-04, 6.76036754e-04, 2.15070268e-05,\n",
       "       1.36052680e-04, 3.29211002e-06, 4.06194245e-03, 1.52888999e-04,\n",
       "       6.44023385e-05, 3.48186586e-04, 3.76466458e-04, 6.21002764e-05,\n",
       "       3.12242238e-03, 2.18647299e-03, 3.08580406e-04, 1.79388328e-04,\n",
       "       1.45819606e-04, 1.61067772e-04, 4.75698063e-04, 1.29796565e-04,\n",
       "       3.36528428e-05, 5.68094838e-04, 4.38265961e-05, 1.41080032e-04,\n",
       "       4.87116224e-04, 8.88979004e-04, 5.37853921e-03, 1.08349230e-03,\n",
       "       2.59501685e-04, 2.27159209e-04, 1.22649642e-03, 3.15157860e-03,\n",
       "       3.17593862e-04, 1.19324388e-04, 2.48116115e-03, 4.59835771e-03,\n",
       "       1.31358436e-04, 2.59681510e-05, 4.62624273e-04, 7.35888170e-05,\n",
       "       1.25805338e-04, 3.89895169e-04, 3.31641859e-05, 3.57586978e-04,\n",
       "       2.01754927e-04, 1.25798979e-03, 3.91694368e-04, 2.93174362e-05,\n",
       "       8.13307197e-05, 2.24732838e-04, 3.41460691e-04, 2.76687089e-04,\n",
       "       3.26048903e-05, 6.28425973e-03, 4.81737196e-04, 7.95623462e-04,\n",
       "       4.55882662e-04, 6.13299926e-06, 5.75334532e-04, 3.16499674e-04,\n",
       "       6.10875577e-05, 6.51347684e-03, 1.05345238e-03, 8.92683212e-03,\n",
       "       2.49177392e-04, 3.39811704e-05, 4.54884184e-06, 2.65719544e-04,\n",
       "       8.12260609e-04, 2.38184206e-04, 3.41698091e-04, 1.13441565e-04,\n",
       "       7.70542028e-05, 7.72544881e-04, 2.68233381e-03, 1.30070504e-04,\n",
       "       1.98056325e-04, 2.85534188e-03, 2.96412945e-05, 1.09556422e-04,\n",
       "       6.62947205e-05, 1.53866853e-03, 3.30634328e-04, 9.59374156e-05,\n",
       "       4.14735950e-05, 2.17174282e-04, 4.34149336e-03, 1.84352175e-04,\n",
       "       6.68336987e-04, 5.87854418e-04, 1.02191334e-04, 5.24304400e-04,\n",
       "       1.11010064e-04, 3.81685444e-04, 3.65052292e-05, 1.45592028e-04,\n",
       "       5.98220667e-03, 8.84192588e-04, 1.89143617e-03, 3.30805383e-03,\n",
       "       3.50464979e-04, 3.19314022e-05, 8.98758153e-05, 5.32376766e-03,\n",
       "       2.66802264e-04, 7.09147484e-04, 4.54939072e-05, 2.20532715e-03,\n",
       "       1.06450368e-03, 6.57909084e-04, 1.98362395e-03, 5.41492656e-04,\n",
       "       3.91431386e-04, 1.08794156e-04, 7.14004564e-04, 3.44206928e-05,\n",
       "       1.61694203e-04, 6.80520898e-05, 2.48471391e-04, 1.33666283e-04,\n",
       "       1.00742269e-03, 7.16244627e-04, 9.59234964e-03, 2.11775870e-04,\n",
       "       8.67786445e-03, 3.87349632e-04, 1.24366634e-04, 2.59746739e-04,\n",
       "       2.27552500e-05, 1.34183199e-03, 6.89648077e-05, 1.37183175e-04,\n",
       "       3.52545721e-05, 2.24652715e-04, 9.16967183e-05, 7.48064660e-04,\n",
       "       1.09621976e-03, 2.41397507e-03, 5.78847937e-02, 2.17447785e-04,\n",
       "       9.35416756e-05, 1.53317480e-04, 2.93300982e-04, 5.24814893e-03,\n",
       "       4.68971953e-03, 1.33227149e-04, 2.36220803e-05, 1.44248042e-04,\n",
       "       3.46375600e-04, 4.99646005e-04, 7.77856912e-04, 5.32376766e-03,\n",
       "       1.49532963e-04, 6.64033554e-03, 3.93548195e-04, 3.37193342e-04,\n",
       "       4.18259064e-04, 2.61836994e-05, 1.89113547e-03, 3.46911460e-04,\n",
       "       2.21473805e-04, 1.42780028e-03, 6.73316390e-05, 4.97521469e-05,\n",
       "       2.20496091e-03, 5.69308235e-04, 5.20066707e-04, 2.33848681e-04,\n",
       "       4.89313446e-04, 2.02884024e-04, 5.32376766e-03, 8.20383066e-05,\n",
       "       6.72643800e-05, 1.28634798e-04, 1.01473539e-04, 7.43456549e-05,\n",
       "       6.23272717e-05, 1.94406195e-03, 3.51171521e-03, 1.16168382e-03,\n",
       "       3.86476575e-04, 1.21011457e-03, 2.84755690e-04, 9.02924148e-06,\n",
       "       1.52583452e-04, 7.75250375e-01, 5.07034012e-04, 5.66295173e-04,\n",
       "       6.14646240e-04, 4.61973432e-05, 2.04513990e-03, 4.59348630e-05,\n",
       "       4.87703271e-03, 6.74429393e-05, 8.85857880e-05, 7.53374363e-04,\n",
       "       2.52641563e-04, 1.06917426e-03, 2.45645933e-04, 1.82493764e-04,\n",
       "       7.50126259e-04, 6.76036754e-04, 9.33462568e-03, 6.85955980e-04,\n",
       "       1.15504685e-04, 2.25921267e-05, 1.16449173e-05, 1.94148521e-03,\n",
       "       5.47844820e-06, 1.47688130e-04, 1.64816983e-03, 1.41138653e-05,\n",
       "       5.32376766e-03, 1.51795370e-03, 2.91672605e-03, 3.34175973e-04,\n",
       "       1.78931034e-04, 9.37221281e-04, 5.81498571e-05, 3.76534984e-02,\n",
       "       1.01093110e-03, 2.59516994e-03, 1.60308249e-04, 4.76566888e-03,\n",
       "       5.52589045e-05, 4.58463444e-04, 7.79747643e-05, 6.36719912e-03,\n",
       "       4.17555566e-05, 3.07435330e-05, 1.73217186e-03, 5.32376766e-03,\n",
       "       3.17798316e-04, 1.07479636e-05, 4.21042678e-05, 9.25742497e-04,\n",
       "       3.34802928e-04, 1.24569589e-04, 2.82862398e-04, 2.43462180e-03,\n",
       "       1.81430066e-03, 2.84345970e-05, 1.51781132e-04, 3.27589602e-04,\n",
       "       2.62177578e-04, 2.20407150e-03, 1.27419626e-04, 1.50040709e-04,\n",
       "       1.10894631e-04, 5.48217911e-04, 5.03139629e-04, 4.66399615e-05,\n",
       "       4.96839464e-04, 6.68486682e-05, 1.30957388e-03, 1.24692952e-03,\n",
       "       1.07124804e-04, 3.33635486e-04, 1.17043943e-04, 4.75664670e-03,\n",
       "       1.94133914e-04, 4.55539936e-04, 9.82302736e-05, 4.80106566e-04,\n",
       "       1.86177413e-03, 7.49091560e-04, 4.89279118e-05, 1.29360662e-04,\n",
       "       6.02831971e-03, 4.01998586e-05, 2.40304274e-03, 5.32376766e-03,\n",
       "       1.80306070e-05, 8.76834325e-04, 2.44559051e-04, 4.15201765e-04,\n",
       "       4.28702123e-03, 4.46131235e-05, 2.38883353e-04, 1.63978155e-04,\n",
       "       1.97409280e-03, 2.58640386e-04, 3.62333172e-04, 1.30351371e-04,\n",
       "       4.50828848e-05, 1.21496574e-04, 2.09380378e-04, 7.53203567e-05,\n",
       "       5.43570670e-04, 4.94250071e-06, 9.51019138e-06, 3.03881767e-04,\n",
       "       1.01539574e-03, 2.30255871e-04, 8.18608387e-05, 4.19464108e-04,\n",
       "       8.49010330e-03, 5.50798490e-04, 2.10069539e-03, 1.22213969e-04,\n",
       "       1.23187652e-04, 5.18899411e-04, 1.25861121e-03, 1.06655876e-03,\n",
       "       6.41354942e-04, 3.34747077e-04, 1.75167559e-04, 4.27303530e-05,\n",
       "       3.77784854e-05, 3.48074071e-04, 1.03486504e-03, 3.72483931e-03,\n",
       "       1.89601851e-04, 1.11673481e-03, 2.38536260e-04, 2.47222697e-03,\n",
       "       9.78221884e-04, 1.84078890e-05, 3.56082710e-05, 4.24867962e-04,\n",
       "       1.71146216e-03, 6.60482678e-04, 1.27108244e-03, 1.23045911e-05,\n",
       "       1.21697853e-03, 1.18000069e-04, 2.35312982e-04, 1.03766608e-04,\n",
       "       9.12325413e-05, 1.37523442e-04, 4.96710782e-05, 7.58611888e-04,\n",
       "       4.22454395e-05, 2.44498439e-03, 1.24348138e-04, 1.27332169e-04,\n",
       "       1.08869108e-05, 6.34063210e-04, 4.26048413e-04, 1.68970335e-04,\n",
       "       4.95748754e-05, 7.66590238e-05, 1.16525553e-04, 1.57494687e-05,\n",
       "       2.51964666e-04, 1.25711071e-04, 1.60343025e-03, 3.08939518e-04,\n",
       "       5.32376766e-03, 9.29007365e-04, 2.06885903e-04, 9.11285577e-04,\n",
       "       4.48025894e-05, 1.40112254e-03, 2.41746704e-04, 2.01231305e-05,\n",
       "       6.01560860e-05, 3.67190252e-04, 1.84097284e-04, 1.28266125e-04,\n",
       "       9.08628499e-05, 6.66319567e-04, 5.66627970e-03, 8.39759377e-05,\n",
       "       1.41635479e-03, 5.28966484e-04, 5.43198530e-06, 4.16450021e-05,\n",
       "       6.92452613e-06, 4.13648377e-04, 1.78444735e-03, 4.74483677e-05,\n",
       "       2.28331666e-02, 4.13648377e-04, 6.91133318e-05, 3.00634420e-04,\n",
       "       2.21144850e-03, 1.08449349e-04, 2.13136955e-04, 3.46058077e-04,\n",
       "       7.35545123e-04, 4.11846122e-04, 7.25596692e-05, 2.40920667e-06,\n",
       "       8.28960328e-05, 7.22518191e-04, 2.22905277e-04, 7.57321483e-04,\n",
       "       1.67158389e-04, 7.21805554e-04, 2.93585501e-04, 1.16090250e-05,\n",
       "       4.72588115e-04, 2.30596634e-04, 9.29708709e-04, 9.25876666e-05,\n",
       "       3.26068432e-04, 2.84011569e-03, 3.98280891e-03, 1.87192205e-03,\n",
       "       4.22360936e-05, 2.25921267e-05, 3.04702175e-04, 6.69616507e-04,\n",
       "       6.81831909e-04, 2.36110820e-04, 1.32978268e-04, 3.93278344e-04,\n",
       "       2.95972917e-04, 3.38902973e-05, 5.32376766e-03, 5.35158215e-05,\n",
       "       8.58806074e-04, 5.33263956e-04, 1.09992325e-05, 1.25014994e-04,\n",
       "       1.16585907e-04, 4.66165016e-04, 8.22339643e-05, 1.21154138e-04,\n",
       "       5.24373376e-04, 4.09480446e-04, 1.35736971e-03, 5.20329340e-05,\n",
       "       7.86379314e-05, 2.15936895e-03, 1.99792761e-04, 3.32492695e-04,\n",
       "       1.07868214e-03, 3.77189805e-04, 2.90758180e-04, 9.22160980e-05,\n",
       "       1.68191051e-04, 1.02197577e-04, 7.80481132e-05, 4.02551610e-04,\n",
       "       4.31314169e-04, 2.09446676e-04, 6.28221547e-04, 2.37368091e-04,\n",
       "       3.55262804e-04, 8.60881191e-05, 6.55804412e-04, 8.65994298e-05,\n",
       "       7.72714920e-05, 2.54999613e-04, 1.22778658e-02, 7.37282462e-05,\n",
       "       2.15404463e-04, 9.32617404e-05, 1.46884238e-04, 3.60263768e-03,\n",
       "       4.81577776e-03, 5.10794926e-04, 7.56312147e-05, 1.62373995e-03,\n",
       "       7.01566134e-03, 4.28418243e-05, 5.32376766e-03, 9.20801715e-04,\n",
       "       4.40844888e-04, 1.86102588e-05, 7.27248116e-05, 1.58455980e-03,\n",
       "       5.00296301e-04, 1.18426362e-03, 3.37982143e-04, 2.16931119e-04,\n",
       "       5.85755115e-05, 2.80718341e-05, 3.74666473e-04, 4.31139051e-04,\n",
       "       1.05835113e-03, 1.08768733e-03, 9.73617018e-04, 3.49410926e-04,\n",
       "       1.20143918e-03, 2.52692174e-04, 1.75878333e-04, 5.44071139e-04,\n",
       "       1.75432826e-04, 8.56722298e-04, 1.18568430e-04, 2.45674513e-04,\n",
       "       2.72211968e-04, 5.01740506e-05, 9.11952229e-05, 3.28371942e-04,\n",
       "       2.57583847e-03, 1.63322350e-03, 3.83064413e-04, 1.72592845e-05,\n",
       "       5.86735077e-05, 1.22696700e-04, 1.63007877e-04, 9.50883768e-05,\n",
       "       9.02375788e-04, 1.39928117e-04, 2.81814835e-03, 1.89314625e-04,\n",
       "       2.30225711e-03, 9.57396580e-04, 8.71269804e-05, 1.04356138e-03,\n",
       "       6.33586205e-06, 9.89313517e-03, 9.96308634e-04, 5.32376766e-03,\n",
       "       1.63874676e-04, 1.36590970e-04, 5.13914390e-04, 1.79582057e-04,\n",
       "       8.25420866e-05, 3.90860310e-04, 1.27008883e-04, 7.59033673e-03,\n",
       "       1.36578421e-03, 3.85856329e-05, 6.03493943e-04, 4.20346740e-04,\n",
       "       9.64717110e-05, 6.56845339e-04, 1.39706404e-04, 3.34703334e-04,\n",
       "       1.29877846e-03, 2.82348283e-05, 2.56586587e-03, 6.54672913e-04,\n",
       "       5.75286569e-04, 3.55506054e-04, 5.73841680e-04, 2.54457937e-05,\n",
       "       2.33314859e-04, 4.82385731e-05, 2.12963685e-04, 1.86113233e-04,\n",
       "       2.41923335e-04, 1.87588725e-02, 1.76216243e-04, 2.00206484e-03,\n",
       "       1.04470739e-04, 2.61574605e-04, 1.92974374e-04, 1.02393271e-03,\n",
       "       9.55968790e-05, 4.02349426e-04, 5.20745583e-04, 3.30263611e-05,\n",
       "       1.87984307e-03, 8.42019072e-05, 5.28661003e-05, 9.13394033e-04,\n",
       "       1.48732361e-04, 2.79040076e-04, 1.15936948e-03, 2.91587003e-05,\n",
       "       4.17889591e-04, 3.35571298e-04, 1.91076053e-03, 1.88392369e-05,\n",
       "       8.83342000e-04, 3.06597736e-04, 7.34294765e-03, 8.53637612e-05,\n",
       "       1.16598909e-03, 3.46454850e-04, 6.08090428e-04, 8.07574324e-05,\n",
       "       3.98293603e-03, 1.70806411e-03, 1.40546937e-03, 2.23240256e-02,\n",
       "       8.62345332e-05, 2.30993889e-03, 1.73101391e-04, 1.85778481e-04,\n",
       "       5.08438039e-04, 2.62396679e-05, 1.30032760e-03, 2.14661611e-03,\n",
       "       2.23036041e-03, 5.82608154e-05, 2.93023157e-04, 1.38335454e-03,\n",
       "       1.12267595e-03, 3.80563113e-04, 2.51372228e-03, 2.75558396e-03,\n",
       "       1.10222574e-03, 7.48896739e-04, 7.52062761e-06, 4.81464056e-04,\n",
       "       4.29449108e-04, 8.16796965e-05, 7.44498029e-05, 8.90270865e-04,\n",
       "       1.64927617e-02, 2.29119498e-04, 6.04016805e-06, 5.16279659e-04,\n",
       "       1.98339261e-02, 1.73534863e-04, 2.27176079e-05, 3.23846051e-03,\n",
       "       1.27536070e-04, 5.79982807e-05, 3.31918942e-03, 3.73721326e-04,\n",
       "       9.18641163e-04, 7.14903581e-05, 2.52333441e-04, 1.74623157e-03,\n",
       "       1.62650773e-04, 7.14234411e-05, 7.63245771e-05, 3.10927513e-04,\n",
       "       1.38828880e-04, 5.93368488e-04, 2.61513254e-04, 2.72144243e-04,\n",
       "       4.31434863e-04, 1.27438208e-04, 5.40253532e-05, 6.15559868e-04,\n",
       "       1.62114110e-02, 6.30010443e-04, 2.45322753e-03, 4.65933816e-04,\n",
       "       1.77058137e-05, 5.39633154e-04, 2.96749087e-04, 4.94521693e-04,\n",
       "       2.69788405e-04, 2.10447979e-04, 3.46103807e-05, 8.20304049e-05,\n",
       "       1.08287309e-03, 1.74176111e-03, 1.42563789e-04, 2.79560209e-05,\n",
       "       4.10539251e-05, 1.16950447e-04, 6.10847608e-04, 2.93443736e-05,\n",
       "       7.27434672e-05, 1.16805575e-04, 1.76517104e-04, 2.95035890e-04,\n",
       "       6.47747540e-04, 3.63229681e-03, 8.64863687e-05, 1.50834136e-02,\n",
       "       1.82623498e-03, 1.81064440e-03, 1.50864318e-04, 2.11706429e-04,\n",
       "       3.61045793e-04, 2.94257887e-03, 3.76302493e-03, 1.16084027e-03,\n",
       "       2.85412068e-04, 4.64000914e-04, 1.22820886e-04, 1.32858113e-04,\n",
       "       6.19402563e-04, 1.44473655e-04, 4.14485577e-04, 1.15597133e-04,\n",
       "       6.06556772e-04, 5.39489149e-04, 3.46164161e-04, 5.32376766e-03,\n",
       "       2.21544295e-03, 6.68407651e-04, 6.23844753e-05, 1.43633559e-04,\n",
       "       3.35764512e-02, 4.08911984e-03, 2.41038483e-03, 2.86610506e-04,\n",
       "       1.94803695e-03, 1.16240015e-04, 5.32376766e-03, 2.07167192e-04,\n",
       "       4.60685813e-04, 1.48598963e-04, 1.68427196e-05, 1.05879037e-03,\n",
       "       7.96521176e-03, 4.20186669e-03, 1.02084690e-04, 7.36657856e-03,\n",
       "       2.28792720e-04, 1.56669979e-04, 4.92908410e-04, 4.28797648e-04,\n",
       "       4.98053596e-05, 6.48415240e-04, 4.99457936e-04, 5.99427258e-05,\n",
       "       5.98621962e-04, 1.37172698e-04, 1.04599108e-03, 1.60882642e-04,\n",
       "       1.66504997e-05, 4.08382257e-05, 1.76019603e-04, 1.47494487e-04,\n",
       "       4.89763188e-05, 5.04579148e-05, 5.55939041e-05, 2.01427308e-03,\n",
       "       1.43468205e-04, 1.57938310e-04, 2.07116027e-04, 3.25419707e-04,\n",
       "       9.68497989e-05, 1.62693123e-05, 1.76277221e-03, 1.26055587e-04,\n",
       "       1.12342369e-03, 9.15046403e-05, 1.54003978e-03, 2.20409987e-04,\n",
       "       3.37428864e-05, 1.87049707e-04, 5.69937518e-04, 3.17565718e-04,\n",
       "       8.83944904e-06, 6.48049972e-05, 3.32158743e-05, 3.90494592e-04,\n",
       "       4.02514590e-04, 2.18210516e-05, 1.31406792e-04, 1.98023301e-02,\n",
       "       7.88630685e-04, 4.02264741e-05, 5.32376766e-03, 7.83925407e-06,\n",
       "       4.29021515e-04, 3.50148403e-05, 4.15114127e-03, 4.12158930e-04,\n",
       "       4.94151063e-05, 6.61552695e-05, 6.22631283e-04, 5.90002863e-04,\n",
       "       9.10071467e-05, 2.93284480e-04, 1.34468486e-03, 7.05723604e-03,\n",
       "       4.68785904e-04, 4.47481172e-03, 1.80480027e-04, 1.42608806e-05,\n",
       "       3.90187051e-04, 2.12639250e-04, 2.22358154e-03, 3.53993790e-04,\n",
       "       1.75678389e-04, 7.69931721e-05, 3.99257769e-05, 1.01662597e-04,\n",
       "       1.00569763e-04, 1.49165833e-04, 2.21941213e-04, 1.64050004e-03,\n",
       "       2.10538328e-05, 6.61911181e-05, 3.95877432e-05, 3.17774684e-04,\n",
       "       1.74757486e-04, 1.15251642e-04, 1.74085435e-03, 8.55192920e-05,\n",
       "       3.62490027e-05, 1.99212198e-04, 7.22744662e-05, 1.12492184e-03,\n",
       "       4.71562407e-06, 1.60977640e-03, 1.88950710e-02, 3.99206649e-04,\n",
       "       1.72729109e-04, 4.52045497e-05, 7.54376932e-04, 2.89541227e-03,\n",
       "       7.30150714e-05, 3.42647452e-03, 3.08703689e-04, 9.15376295e-05,\n",
       "       1.81352720e-04, 2.11942533e-04, 2.96223036e-04, 1.45415904e-03,\n",
       "       9.93803842e-05, 5.95999845e-05, 6.71263435e-04, 1.72316519e-04,\n",
       "       5.57404652e-04, 1.11194931e-04, 9.52817034e-04, 1.64389348e-05,\n",
       "       4.25736362e-05, 1.02315753e-04, 1.28485975e-04, 3.05768132e-04,\n",
       "       2.83413072e-04, 7.33317938e-05, 9.66985535e-05, 2.18360074e-04,\n",
       "       3.76286032e-03, 5.10850550e-05, 2.12637009e-04, 1.23027209e-02,\n",
       "       2.93098594e-04, 1.73610169e-04, 5.00555325e-04, 6.08152513e-05,\n",
       "       2.77769199e-04, 6.08259114e-04, 5.74179459e-04, 1.29870110e-04,\n",
       "       3.35779623e-04, 4.10804671e-04, 1.26282778e-03, 1.06403706e-04,\n",
       "       3.13019322e-04, 2.35111127e-03, 3.10615893e-03, 4.35605307e-06,\n",
       "       6.58391102e-04, 3.97142518e-04, 4.43258104e-05, 5.46931224e-05,\n",
       "       1.21892234e-02, 1.09650064e-04, 2.97665829e-05, 1.24735245e-03,\n",
       "       1.49493339e-03, 3.00925931e-05, 1.92784399e-04, 1.07075684e-02,\n",
       "       1.40405653e-04, 1.96176668e-04, 7.93139741e-04, 2.52127094e-04,\n",
       "       5.82989378e-05, 4.97933012e-04, 9.19168961e-05, 2.88157462e-04],\n",
       "      dtype=float32)"
      ]
     },
     "execution_count": 67,
     "metadata": {},
     "output_type": "execute_result"
    }
   ],
   "source": [
    "from sklearn.metrics import accuracy_score\n",
    "y_pred = final_gb.predict(testdmat) # Predict using testdmat\n",
    "y_pred"
   ]
  },
  {
   "cell_type": "code",
   "execution_count": 77,
   "metadata": {},
   "outputs": [
    {
     "data": {
      "text/plain": [
       "'[0]\\teval-error:0.006000'"
      ]
     },
     "execution_count": 77,
     "metadata": {},
     "output_type": "execute_result"
    }
   ],
   "source": [
    "final_gb.eval(testdmat, name='eval', iteration=0)"
   ]
  },
  {
   "cell_type": "code",
   "execution_count": null,
   "metadata": {
    "collapsed": true
   },
   "outputs": [],
   "source": [
    "def makesubmit(clf,testdf,featurelist,output=\"submit.csv\"):\n",
    "    testdf = testdf.fillna(0)\n",
    "    feature_test = testdf[featurelist]\n",
    "    \n",
    "    pred = clf.predict(feature_test)\n",
    "    \n",
    "    ids = list(testdf['Id'])\n",
    "    \n",
    "    fout = open(output,'w')\n",
    "    fout.write(\"Id,Response\\n\")\n",
    "    for i,id in enumerate(ids):\n",
    "        fout.write('%s,%s\\n' % (str(id),str(pred[i])))\n",
    "    fout.close()\n"
   ]
  }
 ],
 "metadata": {
  "kernelspec": {
   "display_name": "Python 3",
   "language": "python",
   "name": "python3"
  },
  "language_info": {
   "codemirror_mode": {
    "name": "ipython",
    "version": 3
   },
   "file_extension": ".py",
   "mimetype": "text/x-python",
   "name": "python",
   "nbconvert_exporter": "python",
   "pygments_lexer": "ipython3",
   "version": "3.6.2"
  }
 },
 "nbformat": 4,
 "nbformat_minor": 1
}
